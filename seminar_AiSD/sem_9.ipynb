{
 "cells": [
  {
   "cell_type": "code",
   "execution_count": 1,
   "metadata": {},
   "outputs": [
    {
     "name": "stdout",
     "output_type": "stream",
     "text": [
      "10\n"
     ]
    }
   ],
   "source": [
    "#1\n",
    "def summ(a, b):\n",
    "    return a * b\n",
    "print(summ(5, 2))"
   ]
  },
  {
   "cell_type": "code",
   "execution_count": 8,
   "metadata": {},
   "outputs": [
    {
     "name": "stdout",
     "output_type": "stream",
     "text": [
      "6\n"
     ]
    }
   ],
   "source": [
    "#2\n",
    "def mul(a=1, b=1, c=1):\n",
    "    return a*b*c\n",
    "print(mul(2, 3))"
   ]
  },
  {
   "cell_type": "code",
   "execution_count": 57,
   "metadata": {},
   "outputs": [
    {
     "name": "stdout",
     "output_type": "stream",
     "text": [
      "750\n",
      "3\n",
      "3850\n",
      "750\n",
      "3000\n"
     ]
    }
   ],
   "source": [
    "#3\n",
    "a1 = (15, 10 ,5)\n",
    "a2 = (3, 1)\n",
    "a3 = [2, 35, 55]\n",
    "a4 = (5, 10 ,15, 20)\n",
    "\n",
    "def mul(a=1, b=1, c=1):\n",
    "    return a*b*c\n",
    "\n",
    "print(mul(*a1))\n",
    "print(mul(*a2))\n",
    "print(mul(*a3))\n",
    "print(mul(*a4[:3]))\n",
    "print(mul(*a4[-3:]))"
   ]
  },
  {
   "cell_type": "code",
   "execution_count": 3,
   "metadata": {},
   "outputs": [
    {
     "name": "stdout",
     "output_type": "stream",
     "text": [
      "750\n",
      "3\n",
      "3850\n",
      "97853184000\n"
     ]
    }
   ],
   "source": [
    "#4\n",
    "import functools as f\n",
    "\n",
    "a1 = (15, 10 ,5)\n",
    "a2 = (3, 1)\n",
    "a3 = [2, 35, 55]\n",
    "a4 = (5, 10 ,15, 20)\n",
    "\n",
    "def mul(*args):\n",
    "    res = f.reduce(lambda x, y: x*y, args, 1) \n",
    "    return res\n",
    "\n",
    "print(mul(*a1))\n",
    "print(mul(*a2))\n",
    "print(mul(*a3))\n",
    "print(mul(*[2, 3, 4, 5, 6, 3, 4, 5, 6, 78, 88, 55]))"
   ]
  },
  {
   "cell_type": "code",
   "execution_count": 96,
   "metadata": {},
   "outputs": [
    {
     "name": "stdout",
     "output_type": "stream",
     "text": [
      "1\n"
     ]
    }
   ],
   "source": [
    "#5\n",
    "def add(a, b):\n",
    "    return a + b\n",
    "def sub(a, b):\n",
    "    return a - b\n",
    "def mul(a, b):\n",
    "    return round(a*b)\n",
    "def div(a, b):\n",
    "    return round(a/b) if b!= 0 else 'ошибка'\n",
    "\n",
    "\n",
    "op = int(input()), input(), int(input())\n",
    "if op[1] == '+':\n",
    "    result = add(op[0], op[-1])\n",
    "elif op[1] == '-':\n",
    "    result = sub(op[0], op[-1])\n",
    "elif op[1] == '*':\n",
    "    result = mul(op[0], op[-1])\n",
    "elif op[1] == '/':\n",
    "    result = div(op[0], op[-1])\n",
    "else:\n",
    "    print(\"Ошибка: Некорректная операция!\")\n",
    "\n",
    "print(result)\n"
   ]
  },
  {
   "cell_type": "code",
   "execution_count": 102,
   "metadata": {},
   "outputs": [
    {
     "name": "stdout",
     "output_type": "stream",
     "text": [
      "8\n",
      "32\n",
      "2\n",
      "1\n",
      "65\n"
     ]
    }
   ],
   "source": [
    "#6\n",
    "def calc(exp):\n",
    "    exp = exp.split()\n",
    "    if exp[1] in ('+', '-', '*', '/', '^', '%'):\n",
    "        if exp[1] =='+':\n",
    "            return int(exp[0]) + int(exp[-1])\n",
    "        if exp[1] =='-':\n",
    "            return int(exp[0]) - int(exp[-1])\n",
    "        if exp[1] =='*':\n",
    "            return int(exp[0]) * int(exp[-1])\n",
    "        if exp[1] =='/':\n",
    "            return int(exp[0]) // int(exp[-1])\n",
    "        if exp[1] =='^':\n",
    "            return int(exp[0]) ** int(exp[-1])\n",
    "        if exp[1] =='%':\n",
    "            return int(exp[0]) % int(exp[-1])\n",
    "    else:\n",
    "        return 'Ошибка'\n",
    "\n",
    "\n",
    "\n",
    "print(calc('13 - 5'))\n",
    "print(calc('2 ^ 5'))\n",
    "print(calc('5 / 2'))\n",
    "print(calc('5 % 2'))\n",
    "print(calc('13 * 5'))"
   ]
  },
  {
   "cell_type": "code",
   "execution_count": 14,
   "metadata": {},
   "outputs": [
    {
     "name": "stdout",
     "output_type": "stream",
     "text": [
      "Автомобиль марки: не задано, модели: не задано, цвета: черный, 2000 года выпуска, \n",
      "    с пробегом: 0 км, c номерным знаком: X000AM00, цена: 1 000 000 руб.\n",
      "\n",
      "Автомобиль марки: BMW, модели: X5, цвета: белый, 2006 года выпуска, \n",
      "    с пробегом: 215 000 км, c номерным знаком: X012АМ77, цена: 1 115 000 руб.\n",
      "\n",
      "Автомобиль марки: Toyota, модели: Camry, цвета: черный, 2000 года выпуска, \n",
      "    с пробегом: 0 км, c номерным знаком: X000AM00, цена: 1 000 000 руб.\n"
     ]
    }
   ],
   "source": [
    "#7\n",
    "def message(\n",
    "        brand = 'не задано', \n",
    "        model = 'не задано', \n",
    "        colour = 'черный', \n",
    "        year = 2000, \n",
    "        probeg = 0, \n",
    "        num = 'X000AM00',\n",
    "        price = '1 000 000'\n",
    "    ):\n",
    "    return f'''Автомобиль марки: {brand}, модели: {model}, цвета: {colour}, {year} года выпуска, \n",
    "    с пробегом: {probeg} км, c номерным знаком: {num}, цена: {price} руб.'''\n",
    "\n",
    "print(message(), end='\\n\\n')\n",
    "\n",
    "c1 = {\n",
    "        'brand':'BMW', 'model':'X5', \n",
    "        'colour':'белый', \n",
    "        'year':2006, \n",
    "        'probeg':'215 000', \n",
    "        'num':'X012АМ77',\n",
    "        'price':'1 115 000'\n",
    "        }\n",
    "\n",
    "print(message(*c1.values()), end='\\n\\n')\n",
    "print(message(brand = 'Toyota', model = 'Camry'))\n"
   ]
  },
  {
   "cell_type": "code",
   "execution_count": null,
   "metadata": {},
   "outputs": [],
   "source": []
  },
  {
   "cell_type": "code",
   "execution_count": 121,
   "metadata": {},
   "outputs": [
    {
     "name": "stdout",
     "output_type": "stream",
     "text": [
      "пятнадцать\n",
      "пятьдесят четыре\n",
      "девяносто девять\n"
     ]
    }
   ],
   "source": [
    "#8\n",
    "def to_text(s):\n",
    "    \n",
    "    s = str(s)\n",
    "    digits = {\n",
    "            '0': 'ноль',\n",
    "            '1': 'один', \n",
    "            '2': 'два',\n",
    "            '3': 'три',\n",
    "            '4': 'четыре',\n",
    "            '5': 'пять', \n",
    "            '6': 'шесть', \n",
    "            '7': 'семь', \n",
    "            '8': 'восемь', \n",
    "            '9': 'девять', \n",
    "            '10': 'десять', \n",
    "            '11': 'одиннадцать', \n",
    "            '12': 'двенадцать', \n",
    "            '13': 'тринадцать', \n",
    "            '14': 'четырнадцать', \n",
    "            '15': 'пятнадцать', \n",
    "            '16': 'шестнадцать', \n",
    "            '17': 'семнадцать', \n",
    "            '18': 'восемнадцать', \n",
    "            '19': 'девятнадцать', \n",
    "            '20': 'двадцать', \n",
    "            '30': 'тридцать', \n",
    "            '40': 'сорок', \n",
    "            '50': 'пятьдесят', \n",
    "            '60': 'шестьдесят', \n",
    "            '70': 'семьдесят',\n",
    "            '80': 'восемьдесят', \n",
    "            '90': 'девяносто'\n",
    "        }\n",
    "    if s in digits:\n",
    "        return digits[s]\n",
    "    else:\n",
    "        s = list(s)\n",
    "        return digits[s[0] + '0'] + ' ' +digits[s[-1]]\n",
    "    \n",
    "print(to_text(15))\n",
    "print(to_text(54))\n",
    "print(to_text(99))"
   ]
  },
  {
   "cell_type": "code",
   "execution_count": 18,
   "metadata": {},
   "outputs": [
    {
     "name": "stdout",
     "output_type": "stream",
     "text": [
      "3\n",
      "33\n",
      "99\n",
      "995\n",
      "423\n"
     ]
    }
   ],
   "source": [
    "#9\n",
    "def to_int(s):\n",
    "    digits = {\n",
    "        \"ноль\": 0,\n",
    "        \"один\": 1,\n",
    "        \"два\": 2,\n",
    "        \"три\": 3,\n",
    "        \"четыре\": 4,\n",
    "        \"пять\": 5,\n",
    "        \"шесть\": 6,\n",
    "        \"семь\": 7,\n",
    "        \"восемь\": 8,\n",
    "        \"девять\": 9,\n",
    "        \"десять\": 10,\n",
    "        \"одиннадцать\": 11,\n",
    "        \"двенадцать\": 12,\n",
    "        \"тринадцать\": 13,\n",
    "        \"четырнадцать\": 14,\n",
    "        \"пятнадцать\": 15,\n",
    "        \"шестнадцать\": 16,\n",
    "        \"семнадцать\": 17,\n",
    "        \"восемнадцать\": 18,\n",
    "        \"девятнадцать\": 19,\n",
    "        \"двадцать\": 20,\n",
    "        \"тридцать\": 30,\n",
    "        \"сорок\": 40,\n",
    "        \"пятьдесят\": 50,\n",
    "        \"шестьдесят\": 60,\n",
    "        \"семьдесят\": 70,\n",
    "        \"восемьдесят\": 80,\n",
    "        \"девяносто\": 90,\n",
    "        \"сто\": 100,\n",
    "        \"двести\": 200,\n",
    "        \"триста\": 300, \n",
    "        \"четыреста\": 400,\n",
    "        \"пятьсот\": 500, \n",
    "        \"шестьсот\": 600,\n",
    "        \"семьсот\": 700,\n",
    "        \"восемьсот\": 800,\n",
    "        \"девятьсот\": 900\n",
    "    }\n",
    "\n",
    "    if s in digits:\n",
    "        return digits[s]\n",
    "    \n",
    "    s = s.split()\n",
    "    if len(s) == 2:\n",
    "        return digits[s[0]] + digits[s[-1]]\n",
    "    else:\n",
    "        return digits[s[0]] + digits[s[1]] + digits[s[-1]]\n",
    "        \n",
    "    \n",
    "print(to_int('три'))\n",
    "print(to_int('тридцать три'))\n",
    "print(to_int('девяносто девять'))\n",
    "print(to_int('девятьсот девяносто пять'))\n",
    "print(to_int('четыреста двадцать три'))"
   ]
  },
  {
   "cell_type": "code",
   "execution_count": 25,
   "metadata": {},
   "outputs": [
    {
     "name": "stdout",
     "output_type": "stream",
     "text": [
      "('Дима', 10, 130, 35)\n",
      "('Тимур', 11, 135, 39)\n",
      "('Руслан', 9, 140, 33)\n",
      "('Рустам', 10, 128, 30)\n",
      "('Амир', 16, 170, 70)\n",
      "('Рома', 16, 188, 100)\n",
      "('Матвей', 17, 168, 68)\n",
      "('Петя', 15, 190, 90)\n"
     ]
    }
   ],
   "source": [
    "athletes = [('Дима', 10, 130, 35), ('Тимур', 11, 135, 39), ('Руслан', 9, 140, 33), ('Рустам', 10, 128, 30), ('Амир', 16, 170, 70), ('Рома', 16, 188, 100), ('Матвей', 17, 168, 68), ('Петя', 15, 190, 90)]\n",
    "def f(x):\n",
    "    return athletes[0]\n",
    "def g(x):\n",
    "    return athletes[1]    \n",
    "def c(x):\n",
    "    return athletes[2]\n",
    "def v(x):\n",
    "    return athletes[-1]\n",
    "func = [f, g, c, v]\n",
    "n = int(input())\n",
    "print(*(i for i in sorted(athletes, key=func[n])), sep='\\n')\n"
   ]
  },
  {
   "cell_type": "code",
   "execution_count": 28,
   "metadata": {},
   "outputs": [
    {
     "name": "stdout",
     "output_type": "stream",
     "text": [
      "[3.57, 5.58, 4.01, 56.24, 9.01, 32.12, 23.22, 90.1, 45.45, 314.15, 2.72, 1.42]\n"
     ]
    }
   ],
   "source": [
    "def map(function, items):\n",
    "    result = []\n",
    "    for item in items:\n",
    "        result.append(function(item))\n",
    "    return result\n",
    "\n",
    "\n",
    "numbers = [3.56773, 5.57668, 4.00914, 56.24241, 9.01344, 32.12013, 23.22222, 90.09873, 45.45, 314.1528, 2.71828, 1.41546]\n",
    "def f(x):\n",
    "    return round(x, 2)\n",
    "print(map(f, numbers))"
   ]
  },
  {
   "cell_type": "code",
   "execution_count": 15,
   "metadata": {},
   "outputs": [
    {
     "name": "stdout",
     "output_type": "stream",
     "text": [
      "25186\n"
     ]
    }
   ],
   "source": [
    "def map(function, items):\n",
    "    result = []\n",
    "    for item in items:\n",
    "        result.append(function(item))\n",
    "    return result\n",
    "\n",
    "\n",
    "def filter(function, items):\n",
    "    result = []\n",
    "    for item in items:\n",
    "        if function(item):\n",
    "            result.append(item)\n",
    "    return result\n",
    "\n",
    "\n",
    "numbers = [77, 293, 28, 242, 213, 285, 71, 286, 144, 276, 61, 298, 280, 214, 156, 227, 228, 51, -4, 202, 58, 99, 270, 219, 94, 253, 53, 235, 9, 158, 49, 183, 166, 205, 183, 266, 180, 6, 279, 200, 208, 231, 178, 201, 260, -35, 152, 115, 79, 284, 181, 92, 286, 98, 271, 259, 258, 196, -8, 43, 2, 128, 143, 43, 297, 229, 60, 254, -9, 5, 187, 220, -8, 111, 285, 5, 263, 187, 192, -9, 268, -9, 23, 71, 135, 7, -161, 65, 135, 29, 148, 242, 33, 35, 211, 5, 161, 46, 159, 23, 169, 23, 172, 184, -7, 228, 129, 274, 73, 197, 272, 54, 278, 26, 280, 13, 171, 2, 79, -2, 183, 10, 236, 276, 4, 29, -10, 41, 269, 94, 279, 129, 39, 92, -63, 263, 219, 57, 18, 236, 291, 234, 10, 250, 0, 64, 172, 216, 30, 15, 229, 205, 123, -105]\n",
    "\n",
    "def f(x):\n",
    "    if len(str(x)) == 2 or len(str(x)) == 3 and str(x)[0] == '-':\n",
    "        if x % 7 ==0:\n",
    "            return True\n",
    "def g(x):\n",
    "    return x**2\n",
    "print(sum(map(g, filter(f, numbers))))"
   ]
  },
  {
   "cell_type": "code",
   "execution_count": 42,
   "metadata": {},
   "outputs": [
    {
     "name": "stdout",
     "output_type": "stream",
     "text": [
      "25\n"
     ]
    }
   ],
   "source": [
    "from functools import reduce\n",
    "\n",
    "numbers = range(10)\n",
    "obj = map(lambda x: x + 1, numbers)\n",
    "obj = filter(lambda x: x % 2 == 1, obj)\n",
    "result = reduce(lambda x, y: x + y, obj, 0)\n",
    "\n",
    "print(result)\n"
   ]
  },
  {
   "cell_type": "code",
   "execution_count": 59,
   "metadata": {},
   "outputs": [
    {
     "name": "stdout",
     "output_type": "stream",
     "text": [
      "Russia is the capital of Moscow, population equal 145934462 people.\n",
      "USA is the capital of Washington, population equal 331002651 people.\n",
      "UK is the capital of London, population equal 80345321 people.\n",
      "Germany is the capital of Berlin, population equal 67886011 people.\n",
      "France is the capital of Paris, population equal 65273511 people.\n",
      "India is the capital of Delhi, population equal 1380004385 people.\n"
     ]
    }
   ],
   "source": [
    "countries = ['Russia', 'USA', 'UK', 'Germany', 'France', 'India']\n",
    "capitals = ['Moscow', 'Washington', 'London', 'Berlin', 'Paris', 'Delhi']\n",
    "population = [145_934_462, 331_002_651, 80_345_321, 67_886_011, 65_273_511, 1_380_004_385]\n",
    "res = list(zip(countries, capitals, population))\n",
    "for i in range(len(res)):\n",
    "    a, b, c = res[i]\n",
    "    print('{} is the capital of {}, population equal {} people.'.format(a, b, c))\n"
   ]
  }
 ],
 "metadata": {
  "kernelspec": {
   "display_name": "Python 3",
   "language": "python",
   "name": "python3"
  },
  "language_info": {
   "codemirror_mode": {
    "name": "ipython",
    "version": 3
   },
   "file_extension": ".py",
   "mimetype": "text/x-python",
   "name": "python",
   "nbconvert_exporter": "python",
   "pygments_lexer": "ipython3",
   "version": "3.11.4"
  }
 },
 "nbformat": 4,
 "nbformat_minor": 2
}
