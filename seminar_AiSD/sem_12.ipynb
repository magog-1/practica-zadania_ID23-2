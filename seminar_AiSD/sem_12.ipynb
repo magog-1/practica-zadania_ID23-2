{
 "cells": [
  {
   "cell_type": "markdown",
   "metadata": {},
   "source": [
    "При помощи стека (можно использовать любую реализацию стека, например, из лекции) проверить, что в строке, содержащей большой фрагмент кода на python, корректно открываются и закрываются скобки '(' и ')'. Заводить какие-либо счетчики и вообще вести подсчет скобок запрещено. \n",
    "Например, в следующей строке корректное количество скобок: \n",
    "'((dsasdas((das(d)das)d)asd)da)' \n",
    "А вот в следующей закрывающих больше, чем открывающих:\n",
    "'(f(gfhd((hgfdg((fghh)dads)das))ds)adddads())))' \n"
   ]
  },
  {
   "cell_type": "code",
   "execution_count": 2,
   "metadata": {},
   "outputs": [
    {
     "data": {
      "text/plain": [
       "True"
      ]
     },
     "execution_count": 2,
     "metadata": {},
     "output_type": "execute_result"
    }
   ],
   "source": [
    "#1\n",
    "from collections import deque\n",
    "\n",
    "class Stack(deque):\n",
    "    def push(self, a):\n",
    "        self.append(a)\n",
    "\n",
    "def check(string):\n",
    "    stack = Stack()\n",
    "    for char in string:\n",
    "        if char == '(':\n",
    "            stack.push('(')\n",
    "        elif char == ')':\n",
    "            if len(stack) == 0:\n",
    "                return False\n",
    "            stack.pop()\n",
    "    \n",
    "    return len(stack) == 0\n",
    "\n",
    "string1 = '((dsasdas((das(d)das)d)asd)da)'\n",
    "\n",
    "check(string1)"
   ]
  },
  {
   "cell_type": "markdown",
   "metadata": {},
   "source": [
    "С помощью списка (list) реализовать стек. При создании стека нужно передать максимальную длину стека. В случае попытки добавления элемента, приводящего к превышению емкости стека возвращать ошибку. \n",
    "Стек должен поддерживать следующие операции: \n",
    "S.push(e): добавление элемента e на вершину стека S. \n",
    "S.pop(): удаляет и возвращает верхний элемент стека S. Если стек пуст, то возникает ошибка. \n",
    "S.top(): возвращает верхний элемент стека S, не удаляя его. Если стек пуст, то возникает ошибка. \n",
    "S.is_empty( ): возвращает True если стек S не содержит ни одного элемента. \n",
    "len(S): возвращает текущеее количество элементов в стеке S. \n"
   ]
  },
  {
   "cell_type": "code",
   "execution_count": 10,
   "metadata": {},
   "outputs": [
    {
     "name": "stdout",
     "output_type": "stream",
     "text": [
      "3\n",
      "2\n",
      "False\n",
      "True\n",
      "0\n",
      "1\n"
     ]
    }
   ],
   "source": [
    "#2\n",
    "class Stack(object):\n",
    "    def __init__(self, capacity):\n",
    "        self.stack = []\n",
    "        self.capacity = capacity\n",
    "\n",
    "    def push(self, e):\n",
    "        if len(self.stack) >= self.capacity:\n",
    "            raise IndexError\n",
    "        self.stack.append(e)\n",
    "\n",
    "    def pop(self):\n",
    "        if self.is_empty():\n",
    "            raise IndexError\n",
    "        return self.stack.pop()\n",
    "\n",
    "    def top(self):\n",
    "        if self.is_empty():\n",
    "            raise IndexError\n",
    "        return self.stack[-1]\n",
    "\n",
    "    def is_empty(self):\n",
    "        return len(self.stack) == 0\n",
    "    \n",
    "    def __len__(self):\n",
    "        return len(self.stack)\n",
    "\n",
    "S = Stack(5)\n",
    "S.push(1)\n",
    "S.push(2)\n",
    "S.push(3)\n",
    "print(S.pop())\n",
    "print(S.top())\n",
    "\n",
    "print(S.is_empty())\n",
    "S.pop()\n",
    "S.pop()\n",
    "print(S.is_empty())\n",
    "\n",
    "print(S.__len__())\n",
    "S.push(1)\n",
    "print(S.__len__())"
   ]
  },
  {
   "cell_type": "markdown",
   "metadata": {},
   "source": [
    "Реализовать класс однонаправленного связанного списка.  \n",
    "\n",
    "3.1) Реализовать метод добавления элемента в начало списка.  \n",
    "\n",
    "4) На базе класса однонаправленного связанного списка реализовать двунаправленный связанный список.  \n",
    "\n",
    "4.1) Реализовать метод добавления элемента в начало списка.  \n"
   ]
  },
  {
   "cell_type": "code",
   "execution_count": 3,
   "metadata": {},
   "outputs": [
    {
     "name": "stdout",
     "output_type": "stream",
     "text": [
      "4 > 3 > 2 > 1 > "
     ]
    }
   ],
   "source": [
    "#3\n",
    "class Link:\n",
    "    def __init__(self, data):        #узел(элемент и ссылка на след элемент)\n",
    "        self.data = data\n",
    "        self.next = None\n",
    "\n",
    "class LinkedList:\n",
    "    def __init__(self):\n",
    "        self.head = None\n",
    "\n",
    "    def append(self, value):\n",
    "        new_link = Link(value)\n",
    "        if self.head == None:\n",
    "            self.head = new_link\n",
    "        else:\n",
    "            current = self.head\n",
    "            while current.next: \n",
    "                current = current.next\n",
    "            current.next = new_link\n",
    "\n",
    "    def prepend(self, data): \n",
    "        new_link = Link(data)                      # 4 задание\n",
    "        new_link.next = self.head\n",
    "        self.head = new_link\n",
    "    \n",
    "    def show_items(self):\n",
    "        current = self.head\n",
    "        while current:\n",
    "            print(current.data, end=' > ')\n",
    "            current = current.next\n",
    "        \n",
    "        \n",
    "\n",
    "l = LinkedList()\n",
    "l.append(3)\n",
    "l.append(2)\n",
    "l.append(1)\n",
    "l.prepend(4)\n",
    "\n",
    "l.show_items()"
   ]
  }
 ],
 "metadata": {
  "kernelspec": {
   "display_name": "Python 3",
   "language": "python",
   "name": "python3"
  },
  "language_info": {
   "codemirror_mode": {
    "name": "ipython",
    "version": 3
   },
   "file_extension": ".py",
   "mimetype": "text/x-python",
   "name": "python",
   "nbconvert_exporter": "python",
   "pygments_lexer": "ipython3",
   "version": "3.11.4"
  }
 },
 "nbformat": 4,
 "nbformat_minor": 2
}
