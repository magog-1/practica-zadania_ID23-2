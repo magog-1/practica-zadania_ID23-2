{
 "cells": [
  {
   "cell_type": "code",
   "execution_count": 1,
   "id": "815b306d",
   "metadata": {},
   "outputs": [
    {
     "name": "stdout",
     "output_type": "stream",
     "text": [
      "['aaa', 'bbb', 'ccc', 'ddd']\n"
     ]
    }
   ],
   "source": [
    "import re\n",
    "\n",
    "string = 'aaa--bbb==ccc__ddd'\n",
    "result = re.split('--|==|__', string)\n",
    "print(result)"
   ]
  },
  {
   "cell_type": "code",
   "execution_count": 8,
   "id": "e5ae8589",
   "metadata": {},
   "outputs": [
    {
     "name": "stdout",
     "output_type": "stream",
     "text": [
      "'Yesterday, All my troubles seemed so far away\n",
      "<re.Match object; span=(1, 10), match='Yesterday'>\n",
      "Yesterday\n"
     ]
    }
   ],
   "source": [
    "import re\n",
    "\n",
    "string = input()\n",
    "match = re.search(r'\\b\\w+\\b', string)\n",
    "print(match)\n",
    "print(match.group(0))"
   ]
  },
  {
   "cell_type": "code",
   "execution_count": null,
   "id": "dfbe7578",
   "metadata": {},
   "outputs": [],
   "source": []
  },
  {
   "cell_type": "code",
   "execution_count": 10,
   "id": "b24e4e74",
   "metadata": {},
   "outputs": [
    {
     "name": "stdout",
     "output_type": "stream",
     "text": [
      "Yesterday, All my troubles seemed so far away\n",
      "<re.Match object; span=(0, 9), match='Yesterday'>\n",
      "Yesterday\n"
     ]
    }
   ],
   "source": [
    "import re\n",
    "\n",
    "string = input()\n",
    "match = re.search(r'\\b\\w+\\b', string)\n",
    "print(match)\n",
    "print(match[0])"
   ]
  },
  {
   "cell_type": "code",
   "execution_count": 11,
   "id": "7e5228b7",
   "metadata": {},
   "outputs": [
    {
     "name": "stdout",
     "output_type": "stream",
     "text": [
      "Yesterday, All my troubles seemed so far away\n",
      "['Yesterday', 'All', 'my', 'troubles', 'seemed', 'so', 'far', 'away']\n",
      "away\n"
     ]
    }
   ],
   "source": [
    "import re\n",
    "\n",
    "string = input()\n",
    "words = re.findall(r'\\b\\w+\\b', string)\n",
    "print(words)\n",
    "print(words[-1])"
   ]
  },
  {
   "cell_type": "code",
   "execution_count": 16,
   "id": "7150c34e",
   "metadata": {},
   "outputs": [
    {
     "name": "stdout",
     "output_type": "stream",
     "text": [
      "['All', 'away']\n"
     ]
    }
   ],
   "source": [
    "import re\n",
    "\n",
    "st = 'Yesterday, All my troubles seemed so far away'\n",
    "g = re.findall(r'\\b[aeiouAEIOU]\\w+', st)\n",
    "print(g)"
   ]
  },
  {
   "cell_type": "code",
   "execution_count": null,
   "id": "29ef0537",
   "metadata": {},
   "outputs": [],
   "source": [
    "import re\n",
    "\n",
    "def check(number):\n",
    "    pattern = r'^\\+7\\d{10}$'\n",
    "    if re.match(pattern, number):\n",
    "        return True\n",
    "    else:\n",
    "        return False\n",
    "n = re.sub('[-|(|)| ]', '', input())\n",
    "print(check(n))"
   ]
  },
  {
   "cell_type": "code",
   "execution_count": 2,
   "id": "3b98876e",
   "metadata": {},
   "outputs": [
    {
     "name": "stdout",
     "output_type": "stream",
     "text": [
      "sahdfjsafhj@mail.ru\n",
      "True\n"
     ]
    }
   ],
   "source": [
    "import re\n",
    "\n",
    "def check_email(mail):\n",
    "    pattern = r'^\\b\\w+\\b@mail.ru$'\n",
    "    if re.match(pattern, mail):\n",
    "        return True\n",
    "    else:\n",
    "        return False\n",
    "\n",
    "print(check_email(input()))"
   ]
  },
  {
   "cell_type": "code",
   "execution_count": null,
   "id": "f79c9408",
   "metadata": {},
   "outputs": [],
   "source": []
  },
  {
   "cell_type": "code",
   "execution_count": null,
   "id": "0ac9848f",
   "metadata": {},
   "outputs": [],
   "source": []
  }
 ],
 "metadata": {
  "kernelspec": {
   "display_name": "Python 3 (ipykernel)",
   "language": "python",
   "name": "python3"
  },
  "language_info": {
   "codemirror_mode": {
    "name": "ipython",
    "version": 3
   },
   "file_extension": ".py",
   "mimetype": "text/x-python",
   "name": "python",
   "nbconvert_exporter": "python",
   "pygments_lexer": "ipython3",
   "version": "3.11.4"
  }
 },
 "nbformat": 4,
 "nbformat_minor": 5
}
