{
 "cells": [
  {
   "cell_type": "code",
   "execution_count": 3,
   "id": "3a86e931",
   "metadata": {},
   "outputs": [
    {
     "name": "stdout",
     "output_type": "stream",
     "text": [
      "[31, 24, 17] [31, 24, 17] [31, 24, 17]\n"
     ]
    }
   ],
   "source": [
    "#1\n",
    "l1 = [31, 24, 17]\n",
    "l2 = l1\n",
    "l3 = list(range(31, 16, -7))\n",
    "print(l1, l2, l3)"
   ]
  },
  {
   "cell_type": "code",
   "execution_count": null,
   "id": "bdddef1e",
   "metadata": {},
   "outputs": [],
   "source": [
    "#2\n",
    "import re\n",
    "\n",
    "s = input()\n",
    "l = list(s)\n",
    "l2 = re.findall(r'\\b[a-zA-Z]+\\b', s)\n",
    "\n",
    "n = ''.join(re.findall(r'\\d+', s))\n",
    "l3 = [int(i) for i in n]\n",
    "print(l, l2, l3, sep='\\n')"
   ]
  },
  {
   "cell_type": "code",
   "execution_count": 2,
   "id": "dc1f38d6",
   "metadata": {},
   "outputs": [
    {
     "name": "stdout",
     "output_type": "stream",
     "text": [
      "input string repeat 3\n",
      "['input', 'string', 'input', 'string', 'input', 'string', 'repeat', '3']\n"
     ]
    }
   ],
   "source": [
    "#3\n",
    "l = input().split()\n",
    "if l[-1].isnumeric() and l[-2] == 'repeat':\n",
    "    l = l[:-2]*int(l[-1]) + l[-2:]\n",
    "else:\n",
    "    l = ''\n",
    "\n",
    "    \n",
    "    \n",
    "print(l)"
   ]
  },
  {
   "cell_type": "code",
   "execution_count": 4,
   "id": "98e44449",
   "metadata": {},
   "outputs": [
    {
     "name": "stdout",
     "output_type": "stream",
     "text": [
      "JKHJK jhfjdhjdhf\n",
      "fjdfdjh dsjkhdsjfhdfs fs\n",
      "order\n",
      "Строка вторая идет ПОСЛЕ строки первая\n"
     ]
    }
   ],
   "source": [
    "#4\n",
    "l = []\n",
    "l.append(input())\n",
    "l.append(input())\n",
    "l.append(len(l[0]))\n",
    "l.append(len(l[1]))\n",
    "out = input()\n",
    "if out == 'lengths':\n",
    "    print(f'Длины строк:{l[2]} и {l[3]}')\n",
    "elif out == 'order':\n",
    "    if l[0] < l[1]:\n",
    "        print('Строка вторая идет ПОСЛЕ строки первая')\n",
    "    elif l[0] > l[1]:\n",
    "        print('Строка первая идет ПОСЛЕ строки вторая')"
   ]
  },
  {
   "cell_type": "code",
   "execution_count": 5,
   "id": "92a56e18",
   "metadata": {},
   "outputs": [
    {
     "name": "stdout",
     "output_type": "stream",
     "text": [
      "4\n",
      "4\n",
      "[1, 2, 3, 4, 1, 2, 3, 4, 1, 2, 3, 4, 1, 2, 3, 4]\n"
     ]
    }
   ],
   "source": [
    "#5.1\n",
    "max_val, repeat = int(input()), int(input())\n",
    "l = [i for i in range(1, max_val + 1)] * repeat\n",
    "\n",
    "    \n",
    "\n",
    "\n",
    "\n",
    "print(l)"
   ]
  },
  {
   "cell_type": "code",
   "execution_count": null,
   "id": "e1b7a609",
   "metadata": {},
   "outputs": [],
   "source": [
    "#6\n",
    "l = list(input())\n",
    "for i in range(1, len(l) - 1):\n",
    "    if l[i] in 'sS':\n",
    "        l[i] = l[i-1]*2 + l[i+1]\n",
    "print(l)\n",
    "    "
   ]
  },
  {
   "cell_type": "code",
   "execution_count": 1,
   "id": "602e0566",
   "metadata": {},
   "outputs": [
    {
     "name": "stdout",
     "output_type": "stream",
     "text": [
      "альфа бетта гамма\n",
      "один два три\n",
      "альфа один бетта два гамма три\n"
     ]
    }
   ],
   "source": [
    "#8\n",
    "s1, s2 = input().split(), input().split()\n",
    "s3 = []\n",
    "for i in range(min(len(s1), len(s2))):\n",
    "    s3.append(s1[i])\n",
    "    s3.append(s2[i])\n",
    "print(*s3, sep=' ')"
   ]
  },
  {
   "cell_type": "code",
   "execution_count": null,
   "id": "1a2c7d83",
   "metadata": {},
   "outputs": [],
   "source": [
    "#9 \n",
    "s1, s2 = input().split(), input().split()\n",
    "print(*list(zip(s1, s2)))"
   ]
  },
  {
   "cell_type": "code",
   "execution_count": null,
   "id": "b9dd7ec9",
   "metadata": {},
   "outputs": [],
   "source": []
  },
  {
   "cell_type": "code",
   "execution_count": 4,
   "id": "3eb566f0",
   "metadata": {},
   "outputs": [
    {
     "name": "stdout",
     "output_type": "stream",
     "text": [
      "3\n",
      "1\n",
      "4\n",
      "15\n",
      "4        0\n"
     ]
    }
   ],
   "source": [
    "#12 #13\n",
    "l = [int(input()) for _ in range(int(input()))]\n",
    "l.remove(min(l))\n",
    "print(min(l), l.index(min(l)), sep='        ')"
   ]
  },
  {
   "cell_type": "code",
   "execution_count": 9,
   "id": "45c846db",
   "metadata": {},
   "outputs": [
    {
     "name": "stdout",
     "output_type": "stream",
     "text": [
      "58 85 48 30 1 938 1 8305 1 \n"
     ]
    }
   ],
   "source": [
    "#14\n",
    "l = input().split()\n",
    "ind = []\n",
    "for i in range(len(l) - 1, -1, -1):\n",
    "    if l[i] == 1:\n",
    "        ind.append(i)\n",
    "if len(ind) > 0:\n",
    "    print(ind[1])\n"
   ]
  },
  {
   "cell_type": "code",
   "execution_count": 10,
   "id": "d8de7a3a",
   "metadata": {
    "scrolled": true
   },
   "outputs": [
    {
     "name": "stdout",
     "output_type": "stream",
     "text": [
      "[[6, 77, 43], [4, 75, 2], [8, 2, 9]]\n"
     ]
    }
   ],
   "source": [
    "#15\n",
    "\n",
    "\n",
    "def multiply(matrix1, matrix2):\n",
    "    if len(matrix1[0]) != len(matrix2):\n",
    "        return 'нельзя умножить'\n",
    "     \n",
    "    result = [[0 for _ in range(len(matrix2[0]))] for _ in range(len(matrix1))] #матрица для результата\n",
    "    \n",
    "    for i in range(len(matrix1)):\n",
    "        for j in range(len(matrix2[0])):         \n",
    "            for l in range(len(matrix2)):\n",
    "                result[i][j] += matrix1[i][l] * matrix2[l][j]\n",
    "    \n",
    "    return result\n",
    "\n",
    "\n",
    "\n",
    "m1 = [[1, 0, 0], \n",
    "      [0, 1, 0], \n",
    "      [0, 0, 1]]\n",
    "m2 = [[6, 77, 43], \n",
    "      [4, 75, 2],\n",
    "      [8, 2, 9]]\n",
    "\n",
    "print(multiply(m2, m1))"
   ]
  },
  {
   "cell_type": "code",
   "execution_count": 19,
   "id": "bda5bed6",
   "metadata": {},
   "outputs": [
    {
     "name": "stdout",
     "output_type": "stream",
     "text": [
      "[0, 77, 43]\n",
      "[4, 75, 2]\n",
      "[8, 2, 9]\n",
      "\n",
      "\n",
      "[6, 77, 43]\n",
      "[4, 75, 2]\n",
      "[8, 2, 9]\n"
     ]
    }
   ],
   "source": [
    "#16\n",
    "import copy\n",
    "m = [[6, 77, 43], \n",
    "      [4, 75, 2],\n",
    "      [8, 2, 9]]\n",
    "copy_m = copy.deepcopy(m)\n",
    "\n",
    "m[0][0] = 0\n",
    "\n",
    "print(*m,'\\n', *copy_m, sep='\\n')"
   ]
  },
  {
   "cell_type": "code",
   "execution_count": 22,
   "id": "1df48b0e",
   "metadata": {},
   "outputs": [
    {
     "name": "stdout",
     "output_type": "stream",
     "text": [
      "дыня абрикос яблоко арбуз\n",
      "абрикос арбуз дыня яблоко\n"
     ]
    }
   ],
   "source": [
    "#17\n",
    "l = input().split()\n",
    "l.sort()\n",
    "print(*l)"
   ]
  },
  {
   "cell_type": "code",
   "execution_count": null,
   "id": "a82bde2c",
   "metadata": {},
   "outputs": [],
   "source": []
  },
  {
   "cell_type": "code",
   "execution_count": null,
   "id": "1b504abb",
   "metadata": {},
   "outputs": [],
   "source": [
    "#lsls=[[1,2,3],['a', 'b'], [30, 40, 50, 60]]\n",
    "mx = 0\n",
    "for i in range(len(lsls)):\n",
    "    if len(lsls[i]) > 0:\n",
    "        mx = len(lsls[i])\n",
    "res = []\n",
    "for i in range(mx):\n",
    "    res.append()\n"
   ]
  },
  {
   "cell_type": "code",
   "execution_count": 27,
   "id": "49418660",
   "metadata": {},
   "outputs": [
    {
     "name": "stdout",
     "output_type": "stream",
     "text": [
      "[(1, 'a'), (2, 'b')] ((1, 'a'), 30) ((2, 'b'), 40)\n"
     ]
    }
   ],
   "source": [
    "#lsls=[[1,2,3],['a', 'b'], [30, 40, 50, 60]]\n",
    "zipped = list(zip(lsls[0], lsls[1]))\n",
    "res_zipped = list(zip(zipped, lsls[2]))\n",
    "print(zipped, *res_zipped)"
   ]
  },
  {
   "cell_type": "code",
   "execution_count": 2,
   "id": "df8d5493",
   "metadata": {},
   "outputs": [
    {
     "name": "stdout",
     "output_type": "stream",
     "text": [
      "кол-во списков 3\n",
      "кол-во символов в списке 3\n",
      "1\n",
      "2\n",
      "3\n",
      "кол-во символов в списке 2\n",
      "a\n",
      "b\n",
      "кол-во символов в списке 4\n",
      "30\n",
      "40\n",
      "50\n",
      "60\n",
      "['1', 'a', '30', '2', 'b', '40']\n",
      "['1', 'a', '30', '2', 'b', '40', ['3'], ['50', '60']]\n"
     ]
    }
   ],
   "source": [
    "#18\n",
    "lsls = []\n",
    "for j in range(int(input('кол-во списков '))):                  # список с произвольным кол-вом подсписков \n",
    "    lsls.append([input() for _ in range(int(input('кол-во символов в списке ')))])\n",
    "\n",
    "res = []\n",
    "mn = len(lsls[0])\n",
    "for i in range(len(lsls)):   # список с минимальный кол-вом элементов\n",
    "    if len(lsls[i]) < mn:\n",
    "        mn = len(lsls[i])\n",
    "\n",
    "c = 0\n",
    "for _ in range(mn):               # количество возможных комбинаций\n",
    "    for i in range(len(lsls)):     # берем элемент из каждой подстроки\n",
    "        res.append(lsls[i][c])    \n",
    "    c += 1\n",
    "print(res)\n",
    "\n",
    "res2 = []\n",
    "for i in range(len(lsls)):        \n",
    "    if len(lsls[i]) > mn:\n",
    "         res2.append(lsls[i][mn:])\n",
    "res.extend(res2)\n",
    "print(res)   "
   ]
  },
  {
   "cell_type": "markdown",
   "id": "9acb2098",
   "metadata": {},
   "source": [
    "кол-во списков 3\n",
    "кол-во символов в списке 3\n",
    "1\n",
    "2\n",
    "3\n",
    "кол-во символов в списке 2\n",
    "a\n",
    "b\n",
    "кол-во символов в списке 4\n",
    "30\n",
    "40\n",
    "50\n",
    "60"
   ]
  },
  {
   "cell_type": "code",
   "execution_count": null,
   "id": "673ae5b2",
   "metadata": {},
   "outputs": [],
   "source": []
  },
  {
   "cell_type": "code",
   "execution_count": null,
   "id": "1202a926",
   "metadata": {},
   "outputs": [],
   "source": []
  },
  {
   "cell_type": "code",
   "execution_count": null,
   "id": "e6ac5417",
   "metadata": {},
   "outputs": [],
   "source": [
    "lsls=[[1,2,3],['a', 'b'], [30, 40, 50, 60]]\n",
    "\n",
    "\n",
    "\n",
    "\n",
    "\n",
    "\n",
    "res = []\n",
    "mn = len(lsls[0])\n",
    "for i in range(len(lsls)):   # список с минимальный кол-вом элементов\n",
    "    if len(lsls[i]) < mn:\n",
    "        mn = len(lsls[i])\n",
    "c = 0\n",
    "for _ in range(mn):\n",
    "    for i in range(len(lsls)):\n",
    "        res.append(lsls[i][c])\n",
    "    c += 1\n",
    "print(res)\n"
   ]
  }
 ],
 "metadata": {
  "kernelspec": {
   "display_name": "Python 3 (ipykernel)",
   "language": "python",
   "name": "python3"
  },
  "language_info": {
   "codemirror_mode": {
    "name": "ipython",
    "version": 3
   },
   "file_extension": ".py",
   "mimetype": "text/x-python",
   "name": "python",
   "nbconvert_exporter": "python",
   "pygments_lexer": "ipython3",
   "version": "3.11.4"
  }
 },
 "nbformat": 4,
 "nbformat_minor": 5
}
