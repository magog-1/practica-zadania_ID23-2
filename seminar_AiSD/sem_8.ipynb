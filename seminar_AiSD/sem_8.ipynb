{
 "cells": [
  {
   "cell_type": "code",
   "execution_count": 17,
   "metadata": {},
   "outputs": [
    {
     "name": "stdout",
     "output_type": "stream",
     "text": [
      "[1, 3, 3, 2, 1, 3]\n",
      "3\n",
      "[2, 8, -6, -12, 0, 66, 21, -8]\n",
      "[2, 4, 0, 11, 3]\n",
      "[2, 4, 3, 4, 0, 11, 3, 8]\n"
     ]
    }
   ],
   "source": [
    "l1 = ['1', '123', '123', '12', '1', '123']\n",
    "l2 = [2, 4, -2, -3, 0 , 11 , 3, -1]\n",
    "l3 = [len(i) for i in l1]  \n",
    "print(l3)  #1\n",
    "l4 = len([i for i in l1 if len(i) > 2])\n",
    "print(l4) #2\n",
    "l5 = [i*(l2.index(i)+1) for i in l2]\n",
    "print(l5) #3\n",
    "l6 = [i for i in l2 if i > -1]\n",
    "print(l6) #4\n",
    "print([l2.index(i) + 1 if i < 0 else i for i in l2]) #5\n"
   ]
  },
  {
   "cell_type": "code",
   "execution_count": 14,
   "metadata": {},
   "outputs": [
    {
     "name": "stdout",
     "output_type": "stream",
     "text": [
      "{'d': '8', 's': '7', 'f': '10', 'm': '9', 'n': '11', 'g': '28', ',': '12', '.': '13'}\n"
     ]
    }
   ],
   "source": [
    "s = input()\n",
    "print({k: v for k, v in zip(list(s), list(map(str, list(range(1, len(s)+1)))))}) #6"
   ]
  },
  {
   "cell_type": "code",
   "execution_count": 27,
   "metadata": {},
   "outputs": [
    {
     "name": "stdout",
     "output_type": "stream",
     "text": [
      "2\n"
     ]
    }
   ],
   "source": [
    "l1 = ['1', '123', '123', '12', '1', '123']\n",
    "d4 = {1: 10, 2: 20, 3: 30, 4: 40, 5: 50, 6: 60}\n",
    "\n",
    "print(len([i for i in l1 if int(i) in d4])) #7"
   ]
  },
  {
   "cell_type": "code",
   "execution_count": 35,
   "metadata": {},
   "outputs": [
    {
     "name": "stdout",
     "output_type": "stream",
     "text": [
      "{'e': 3, 'v': 1, 'g': 1, 'n': 1, '_': 1, 'o': 1}\n",
      "910\n"
     ]
    }
   ],
   "source": [
    "print({k: 'evgene_o'.count(k) for k in list('evgene_o')}) #8\n",
    "\n",
    "d4 = {1: 10, 2: 20, 3: 30, 4: 40, 5: 50, 6: 60}\n",
    "\n",
    "print(sum([k * d4[k] for k in d4])) #10\n"
   ]
  },
  {
   "cell_type": "code",
   "execution_count": 26,
   "metadata": {},
   "outputs": [
    {
     "name": "stdout",
     "output_type": "stream",
     "text": [
      "{'h': 23, 'i': 24, 'j': 25, 'k': 26, 'l': 27}\n",
      "{'a': 3, 'b': 4, 'c': 5, 'd': 6, 'e': 7, 'f': 8, 'g': 9, 'h': 23, 'i': 24, 'j': 25, 'k': 26, 'l': 27}\n"
     ]
    }
   ],
   "source": [
    "d6 = {'e': 20, 'f': 21, 'g': 22, 'h': 23, 'i': 24, 'j': 25, 'k': 26, 'l': 27}\n",
    "d5 = {'a': 3, 'b': 4, 'c': 5, 'd': 6, 'e': 7, 'f': 8, 'g': 9}\n",
    "           \n",
    "d7 = {k: v  for k, v in d6.items() if k not in d5}\n",
    "print(d7) #11\n",
    "         \n",
    "d8 = {k: v for k, v in d5.items()} | {i: j for i, j in d6.items() if i not in d5}\n",
    "print(d8) #12\n"
   ]
  },
  {
   "cell_type": "code",
   "execution_count": 6,
   "metadata": {},
   "outputs": [
    {
     "name": "stdout",
     "output_type": "stream",
     "text": [
      "['e', 'f', 'g', 'h', 'i', 'j', 'k', 'l']\n",
      "20 21 22 23 24 25 26 27\n"
     ]
    }
   ],
   "source": []
  },
  {
   "cell_type": "code",
   "execution_count": 33,
   "metadata": {},
   "outputs": [
    {
     "name": "stdout",
     "output_type": "stream",
     "text": [
      "6\n"
     ]
    }
   ],
   "source": [
    "d4 = {1: 10, 2: 20, 3: 30, 4: 40, 5: 50, 6: 60}\n",
    "cn = 1\n",
    "for i in d4.keys():\n",
    "    cn *= i\n"
   ]
  }
 ],
 "metadata": {
  "kernelspec": {
   "display_name": "Python 3",
   "language": "python",
   "name": "python3"
  },
  "language_info": {
   "codemirror_mode": {
    "name": "ipython",
    "version": 3
   },
   "file_extension": ".py",
   "mimetype": "text/x-python",
   "name": "python",
   "nbconvert_exporter": "python",
   "pygments_lexer": "ipython3",
   "version": "3.11.4"
  }
 },
 "nbformat": 4,
 "nbformat_minor": 2
}
