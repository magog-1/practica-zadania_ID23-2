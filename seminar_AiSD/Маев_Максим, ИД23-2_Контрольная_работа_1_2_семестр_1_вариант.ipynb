{
 "cells": [
  {
   "cell_type": "markdown",
   "metadata": {},
   "source": [
    "### Контрольная работа № 1.\n",
    "### Вариант 1.\n",
    "#### Студент Маев Максим группа ИД23-2\n"
   ]
  },
  {
   "cell_type": "markdown",
   "metadata": {},
   "source": [
    "1. Создайте класс Length (Длина), имеющий свойства\n",
    "\n",
    "• value (значение),\n",
    "\n",
    "• unit (единица измерения).\n",
    "\n",
    "При изменении единицы измерения значение должно соответственно меняться. Например, при переходе от сантиметров к метрам значение должно уменьшаться в 100 раз. Допустимые значения свойства unit: ‘см’, ‘м’, ‘км’. Организуйте эту проверку. Продемонстрируйте работу с классом."
   ]
  },
  {
   "cell_type": "code",
   "execution_count": 41,
   "metadata": {},
   "outputs": [
    {
     "name": "stdout",
     "output_type": "stream",
     "text": [
      "100 см\n",
      "1.0 м\n",
      "0.001 км\n"
     ]
    }
   ],
   "source": [
    "class Length:\n",
    "    def __init__(self, value, unit):\n",
    "        self.value = value\n",
    "        self.unit = unit\n",
    "        \n",
    "    def convert_unit(self, new_unit):\n",
    "        units = {'см': 1, 'м': 100, 'км': 100000} \n",
    "        if self.unit in units and new_unit in units:\n",
    "            self.value = self.value * units[self.unit] / units[new_unit]\n",
    "            self.unit = new_unit\n",
    "        else:\n",
    "            print('недопустимое значение')\n",
    "    \n",
    "    def display(self):\n",
    "        print(f\"{self.value} {self.unit}\")\n",
    "      \n",
    "      \n",
    "length = Length(100, 'см')\n",
    "length.display() \n",
    "\n",
    "length.convert_unit('м')\n",
    "length.display() \n",
    "\n",
    "length.convert_unit('км')\n",
    "length.display() \n"
   ]
  },
  {
   "cell_type": "markdown",
   "metadata": {},
   "source": [
    "2. Создайте класс Ведомость, имеющий\n",
    "атрибут класса:\n",
    "\n",
    "• список_дисциплин (значением является список с названиями дисциплин);\n",
    "\n",
    "свойства:\n",
    "\n",
    "• дисциплина (при задании значения проверять наличие дисциплины в атрибуте список_дисциплин),\n",
    "\n",
    "• группа;\n",
    "\n",
    "методы:\n",
    "\n",
    "• put – добавляет в ведомость информацию об оценке студента (фамилия, оценка – параметры метода). Для хранения данных внутри класса используйте словарь, в котором ключом является фамилия студента. Возможные оценки – «отлично», «хорошо», «удовл.», «неудовл.», «н/я»;\n",
    "\n",
    "• get – возвращает оценку, полученную студентом (фамилия студента – параметр метода);\n",
    "\n",
    "• change – изменяет оценку, полученную студентом (фамилия студента и новая оценка – параметры метода);\n",
    "\n",
    "• del – удаляет информацию о студенте из ведомости (фамилия студента – параметр метода);\n",
    "\n",
    "• result – возвращает кортеж из 5 чисел (количество каждого вида оценок в ведомости);\n",
    "\n",
    "• __init__ – конструктор;\n",
    "\n",
    "• __str__ – возвращает строку, содержащую заголовки (название экзамена, группа) и результаты экзамена в виде таблицы;\n",
    "\n",
    "• count – возвращает количество студентов в ведомости;\n",
    "\n",
    "• names – возвращает список фамилий, имеющихся в ведомости.\n",
    "\n",
    "Продемонстрируйте работу с классом. \n"
   ]
  },
  {
   "cell_type": "code",
   "execution_count": 40,
   "metadata": {},
   "outputs": [
    {
     "name": "stdout",
     "output_type": "stream",
     "text": [
      "Оценка 'Отлично' добавлена Иванов\n",
      "Оценка 'Хорошо' добавлена Сидоров\n",
      "Оценка 'Удовл.' добавлена Петров\n",
      "Оценка 'Неудовл.' добавлена Максимов\n",
      "Оценка 'Н/я' добавлена Матвеев\n",
      "Студент не найден\n",
      "Студент не найден\n",
      "Студент Сидоров удален\n",
      "(1, 0, 1, 1, 1)\n",
      "Дисциплина: Математика\n",
      "Группа: Группа 1\n",
      "\n",
      "Фамилия              Оценка    \n",
      "Иванов               Отлично   \n",
      "Петров               Удовл.    \n",
      "Максимов             Неудовл.  \n",
      "Матвеев              Н/я       \n",
      "\n",
      "кол-во студентов: 4\n",
      "Список студентов: ['Иванов', 'Петров', 'Максимов', 'Матвеев']\n"
     ]
    }
   ],
   "source": [
    "# Решение 2.\n",
    "class Vedomost:\n",
    "    list_of_disciplines = ['Математика', 'Физика', 'Литература', 'История']\n",
    "    \n",
    "    def __init__(self, discipline, group):\n",
    "        self.discipline = discipline\n",
    "        self.group = group\n",
    "        self.grades = {}\n",
    "    \n",
    "    def put(self, surname, grade):\n",
    "        if grade in ['Отлично', 'Хорошо', 'Удовл.', 'Неудовл.', 'Н/я']:\n",
    "            self.grades[surname] = grade\n",
    "            print(f\"Оценка '{grade}' добавлена {surname}\")\n",
    "        else:\n",
    "            print('Недопустимый формат оценки')\n",
    "    \n",
    "    def get(self, surname):\n",
    "        if surname in self.grades:\n",
    "            return self.grades[surname]\n",
    "        else:\n",
    "            return 'Студент не найден'\n",
    "    \n",
    "    def change(self, surname, new_grade):\n",
    "        if new_grade in ['Отлично', 'Хорошо', 'Удовл.', 'Неудовл.', 'Н/я']:\n",
    "            if surname in self.grades:\n",
    "                self.grades[surname] = new_grade\n",
    "                print(f\"Оценка {surname} изменена на '{new_grade}'.\")\n",
    "            else:\n",
    "                print('Студент не найден')\n",
    "        else:\n",
    "            print('Недопустимый формат оценки')\n",
    "    \n",
    "    def delete(self, surname):\n",
    "        if surname in self.grades:\n",
    "            del self.grades[surname]\n",
    "            print(f'Студент {surname} удален')\n",
    "        else:\n",
    "            print('Студент не найден')\n",
    "    \n",
    "    def result(self):\n",
    "        grades_count = {'Отлично': 0, 'Хорошо': 0, 'Удовл.': 0, 'Неудовл.': 0, 'Н/я': 0}\n",
    "        for grade in self.grades.values():\n",
    "            grades_count[grade] += 1\n",
    "        return tuple(grades_count.values())\n",
    "    \n",
    "    def __str__(self):\n",
    "        result_str = f\"Дисциплина: {self.discipline}\\nГруппа: {self.group}\\n\\n\"\n",
    "        result_str += \"{:<20} {:<10}\\n\".format(\"Фамилия\", \"Оценка\")\n",
    "        for surname, grade in self.grades.items():\n",
    "            result_str += \"{:<20} {:<10}\\n\".format(surname, grade)\n",
    "        return result_str\n",
    "    \n",
    "    def count(self):\n",
    "        return len(self.grades)\n",
    "    \n",
    "    def names(self):\n",
    "        return list(self.grades.keys())\n",
    "\n",
    "\n",
    "record_book = Vedomost('Математика', 'Группа 1')\n",
    "\n",
    "record_book.put('Иванов', 'Отлично')\n",
    "record_book.put('Сидоров', 'Хорошо')\n",
    "record_book.put('Петров', 'Удовл.')\n",
    "record_book.put('Максимов', 'Неудовл.')\n",
    "record_book.put('Матвеев', 'Н/я')\n",
    "\n",
    "print(record_book.get('Williams'))\n",
    "\n",
    "record_book.change('Smith', 'Хорошо')\n",
    "\n",
    "record_book.delete('Сидоров')\n",
    "\n",
    "print(record_book.result())\n",
    "print(record_book)\n",
    "\n",
    "print('кол-во студентов:', record_book.count())\n",
    "print('Список студентов:', record_book.names())\n"
   ]
  },
  {
   "cell_type": "markdown",
   "metadata": {},
   "source": [
    "3. Создайте класс Заказ(Order), у которого есть свойства код_товара(code), цена(price), количество(count) и методы __init__ и __str__.\n",
    "\n",
    "Создайте 2 класса-потомка: Опт(Opt) и Розница(Retail).\n",
    "В этих классах создайте методы __init__, __str__.и сумма_заказа(summa), позволяющий узнать стоимость заказа.\n",
    "Для опта стоимость единицы товара составляет 95% от цены, а при покупке более 500 штук – 90% цены.\n",
    "В розницу стоимость единицы товара составляет 100% цены. Стоимость заказа равна произведению цены на количество. \n",
    "\n",
    "Продемонстрируйте работу с классами, создав необходимые объекты и обратившись к их свойствам и методам\n"
   ]
  },
  {
   "cell_type": "code",
   "execution_count": 42,
   "metadata": {},
   "outputs": [
    {
     "name": "stdout",
     "output_type": "stream",
     "text": [
      "Opt Order: Code: A001, Price: 100, Count: 600\n",
      "Total cost for Opt order: 54000.0\n",
      "Retail Order: Code: B002, Price: 150, Count: 10\n",
      "Total cost for Retail order: 1500\n"
     ]
    }
   ],
   "source": [
    "# Решение 3.\n",
    "class Order:\n",
    "    def __init__(self, code, price, count):\n",
    "        self.code = code\n",
    "        self.price = price\n",
    "        self.count = count\n",
    "    \n",
    "    def __str__(self):\n",
    "        return f\"Code: {self.code}, Price: {self.price}, Count: {self.count}\"\n",
    "    \n",
    "    \n",
    "class Opt(Order):\n",
    "    def __init__(self, code, price, count):\n",
    "        super().__init__(code, price, count)\n",
    "    \n",
    "    def summa(self):\n",
    "        if self.count > 500:\n",
    "            return 0.9 * self.price * self.count\n",
    "        else:\n",
    "            return 0.95 * self.price * self.count\n",
    "    \n",
    "    def __str__(self):\n",
    "        return f\"Opt Order: Code: {self.code}, Price: {self.price}, Count: {self.count}\"\n",
    "\n",
    "\n",
    "class Retail(Order):\n",
    "    def __init__(self, code, price, count):\n",
    "        super().__init__(code, price, count)\n",
    "    \n",
    "    def summa(self):\n",
    "        return self.price * self.count\n",
    "    \n",
    "    def __str__(self):\n",
    "        return f\"Retail Order: Code: {self.code}, Price: {self.price}, Count: {self.count}\"\n",
    "    \n",
    "\n",
    "opt_order = Opt(\"A001\", 100, 600)\n",
    "print(opt_order)\n",
    "print(\"Total cost for Opt order:\", opt_order.summa())\n",
    "\n",
    "retail_order = Retail(\"B002\", 150, 10)\n",
    "print(retail_order)\n",
    "print(\"Total cost for Retail order:\", retail_order.summa())\n"
   ]
  },
  {
   "cell_type": "markdown",
   "metadata": {},
   "source": [
    "4. Написать функцию my_func_1(lst), которая переворачивает список вложенных списков с произвольным уровнем вложенности.\n",
    "Любой элемент, не являющийся списком, не должен быть изменен.\n",
    "\n",
    "Примеры, демонстрирующие ожидаемое поведение функции:\n",
    "\n",
    "assert my_func_1(42) == 42\n",
    "\n",
    "assert my_func_1([]) == []\n",
    "\n",
    "assert my_func_1([1, 2]) == [2, 1]\n",
    "\n",
    "assert my_func_1((1, 2)) == (1, 2)\n",
    "\n",
    "assert my_func_1([[1, 2], [3, [4, 5]], 6]) == [6, [[5, 4], 3], [2, 1]]\n",
    "\n",
    "assert my_func_1(['123', '456', '789', {10: [11, 12], 13: 14}, (15, 16)]) == [(15, 16), {10: [11, 12], 13: 14}, '789', '456', '123']\n",
    "\n",
    "assert my_func_1([[[[[1, 2]]]]]) == [[[[[2, 1]]]]]"
   ]
  },
  {
   "cell_type": "code",
   "execution_count": 24,
   "metadata": {},
   "outputs": [
    {
     "name": "stdout",
     "output_type": "stream",
     "text": [
      "[[7, 8], 6, [2, [3, 4], 5], 1]\n",
      "1\n",
      "[(15, 16), {10: [11, 12], 13: 14}, '789', '456', '123']\n"
     ]
    }
   ],
   "source": [
    "# Решение 4.\n",
    "def my_func_1(lst):\n",
    "    reversed_lst = []\n",
    "    if isinstance(lst, list):\n",
    "        for item in lst:\n",
    "            if isinstance(item, list):\n",
    "                reversed_lst.append(my_func_1(item)[::-1])\n",
    "            else:\n",
    "                reversed_lst.append(item)\n",
    "        return reversed_lst[::-1]\n",
    "    else:\n",
    "        return lst\n",
    "\n",
    "print(my_func_1([1, [2, [3, 4], 5], 6, [7, 8]]))\n",
    "print(1)\n",
    "print(my_func_1(['123', '456', '789', {10: [11, 12], 13: 14}, (15, 16)]))"
   ]
  },
  {
   "cell_type": "markdown",
   "metadata": {},
   "source": [
    "5.При помощи механизма map/filter/reduce возвести в квадрат числа от 1 до 100, и рассчитать их сумму, не включая в сумму числа, кратные 9. Написать реализацию в одну строку."
   ]
  },
  {
   "cell_type": "code",
   "execution_count": 25,
   "metadata": {},
   "outputs": [
    {
     "data": {
      "text/plain": [
       "225589"
      ]
     },
     "execution_count": 25,
     "metadata": {},
     "output_type": "execute_result"
    }
   ],
   "source": [
    "# Решение 5.\n",
    "from functools import reduce\n",
    "reduce(lambda x, y: x + y ,filter(lambda x: x % 9 != 0,map(lambda x: x**2, list(range(1, 101)))))"
   ]
  },
  {
   "cell_type": "markdown",
   "metadata": {},
   "source": [
    "6.Написать декоратор с параметром my_decorator(n). Декоратор превращает функцию, возвращающую поддерживающий итерации объект (далее \"последовательность\"), в функцию-генератор. Если декорируемая функция возвращает что-то другое, а не последовательность, то декоратор должен вернуть этот результат вызова функции без изменений.\n",
    "\n",
    "Проверку объекта можно организовать при помощи условия import collections if isinstance(item, collections.Iterable)\n",
    "\n",
    "Параметром декоратора может быть целое положительное число n, тогда получившаяся функция-декоратор должна генерировать по одному значению из последовательности, повторенной n раз. Также параметр может принимать строковое значение 'inf', тогда функция-декоратор генерирует по одному значению из последовательности, повторенной бесконечное число раз (зацикливает генерирование результата).\n",
    "\n",
    "Подсказка: сначала реализовать случай со значением аргумента 'inf', а затем модифицировать для целочисленного значения аргумента."
   ]
  },
  {
   "cell_type": "code",
   "execution_count": null,
   "metadata": {},
   "outputs": [],
   "source": []
  },
  {
   "cell_type": "code",
   "execution_count": null,
   "metadata": {},
   "outputs": [],
   "source": []
  }
 ],
 "metadata": {
  "kernelspec": {
   "display_name": "Python 3 (ipykernel)",
   "language": "python",
   "name": "python3"
  },
  "language_info": {
   "codemirror_mode": {
    "name": "ipython",
    "version": 3
   },
   "file_extension": ".py",
   "mimetype": "text/x-python",
   "name": "python",
   "nbconvert_exporter": "python",
   "pygments_lexer": "ipython3",
   "version": "3.11.4"
  }
 },
 "nbformat": 4,
 "nbformat_minor": 4
}
