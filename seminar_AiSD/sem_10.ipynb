{
 "cells": [
  {
   "cell_type": "code",
   "execution_count": 28,
   "metadata": {},
   "outputs": [
    {
     "name": "stdout",
     "output_type": "stream",
     "text": [
      "0\n",
      "1\n",
      "2\n",
      "3\n",
      "4\n"
     ]
    }
   ],
   "source": [
    "#1\n",
    "l = [0, 1, 2, 3, 4]\n",
    "i = iter(l)\n",
    "\n",
    "while True:\n",
    "    try:\n",
    "        el = next(i)\n",
    "        print(el)\n",
    "    except StopIteration:\n",
    "        break\n",
    "    "
   ]
  },
  {
   "cell_type": "code",
   "execution_count": 42,
   "metadata": {},
   "outputs": [],
   "source": [
    "#2\n",
    "import math\n",
    "\n",
    "def cathetus_2(h, c):\n",
    "    if not isinstance(h, (int, float)) or not isinstance(c, (int, float)):\n",
    "        raise TypeError('h and c must be numeric values')\n",
    "    if h <= 0 or c <= 0:\n",
    "        raise ValueError('h and c must be positive numbers')\n",
    "    if c >= h:\n",
    "        raise ValueError('c must be shorter than h')\n",
    "\n",
    "    c_2 = math.sqrt(h**2 - c**2)\n",
    "    return c_2\n",
    "\n",
    "#print(cathetus_2(1, 1))\n",
    "#print(cathetus_2(-5, 1))\n",
    "#print(cathetus_2('a', 'b'))"
   ]
  },
  {
   "cell_type": "code",
   "execution_count": 41,
   "metadata": {},
   "outputs": [
    {
     "name": "stdout",
     "output_type": "stream",
     "text": [
      "Файл сохранен\n"
     ]
    }
   ],
   "source": [
    "#3\n",
    "def create_file():\n",
    "    file = input('имя файла: ')\n",
    "\n",
    "    try:\n",
    "        with open(file, 'w') as file:\n",
    "            while True:\n",
    "                l = input('Введите строку: ')\n",
    "                if l == '':\n",
    "                    break\n",
    "                file.write(l + '\\n')\n",
    "    except FileNotFoundError:\n",
    "        print('Файл не найден')\n",
    "    except Exception as e:\n",
    "        print('ошибка:', str(e))\n",
    "    else:\n",
    "        print('Файл сохранен')\n",
    "\n",
    "create_file()"
   ]
  },
  {
   "cell_type": "code",
   "execution_count": 43,
   "metadata": {},
   "outputs": [
    {
     "name": "stdout",
     "output_type": "stream",
     "text": [
      "asfjkka sadkjf kas jfl;asd f;as sflk sadfkl ask f jsadfk jfa\n",
      "adklsflkasjfkasdjkfjdskafjksdfk sdf skdf ksdajfk\n",
      "kdsafmjfk f\n",
      "ksdafjkslafjk\n",
      "kladfj asfj\n",
      "akfsasf aaddff\n"
     ]
    }
   ],
   "source": [
    "#4\n",
    "def print_file(path, mx=None):\n",
    "    try:\n",
    "        with open(path, 'r') as file:\n",
    "            lines = file.readlines()\n",
    "            if mx is not None:\n",
    "                lines = lines[:mx]\n",
    "            for line in lines:\n",
    "                print(line.strip())  \n",
    "    except FileNotFoundError:\n",
    "        print(f\"Файл '{path}' не найден.\")\n",
    "    except IOError:\n",
    "        print(f\"Ошибка при чтении'{path}'.\")\n",
    "\n",
    "print_file('t.txt')"
   ]
  },
  {
   "cell_type": "code",
   "execution_count": 55,
   "metadata": {},
   "outputs": [
    {
     "ename": "FileNotFoundError",
     "evalue": "[Errno 2] No such file or directory: 'participantsn.csv'",
     "output_type": "error",
     "traceback": [
      "\u001b[1;31m---------------------------------------------------------------------------\u001b[0m",
      "\u001b[1;31mFileNotFoundError\u001b[0m                         Traceback (most recent call last)",
      "\u001b[1;32md:\\code\\sem10.ipynb Cell 5\u001b[0m line \u001b[0;36m7\n\u001b[0;32m      <a href='vscode-notebook-cell:/d%3A/code/sem10.ipynb#W6sZmlsZQ%3D%3D?line=4'>5</a>\u001b[0m     \u001b[39mwith\u001b[39;00m \u001b[39mopen\u001b[39m(\u001b[39m'\u001b[39m\u001b[39mparticipantsn.csv\u001b[39m\u001b[39m'\u001b[39m) \u001b[39mas\u001b[39;00m file:\n\u001b[0;32m      <a href='vscode-notebook-cell:/d%3A/code/sem10.ipynb#W6sZmlsZQ%3D%3D?line=5'>6</a>\u001b[0m         \u001b[39mprint\u001b[39m(csv\u001b[39m.\u001b[39mreader(file))\n\u001b[1;32m----> <a href='vscode-notebook-cell:/d%3A/code/sem10.ipynb#W6sZmlsZQ%3D%3D?line=6'>7</a>\u001b[0m find_any()\n",
      "\u001b[1;32md:\\code\\sem10.ipynb Cell 5\u001b[0m line \u001b[0;36m5\n\u001b[0;32m      <a href='vscode-notebook-cell:/d%3A/code/sem10.ipynb#W6sZmlsZQ%3D%3D?line=3'>4</a>\u001b[0m \u001b[39mdef\u001b[39;00m \u001b[39mfind_any\u001b[39m():\n\u001b[1;32m----> <a href='vscode-notebook-cell:/d%3A/code/sem10.ipynb#W6sZmlsZQ%3D%3D?line=4'>5</a>\u001b[0m     \u001b[39mwith\u001b[39;00m \u001b[39mopen\u001b[39;49m(\u001b[39m'\u001b[39;49m\u001b[39mparticipantsn.csv\u001b[39;49m\u001b[39m'\u001b[39;49m) \u001b[39mas\u001b[39;00m file:\n\u001b[0;32m      <a href='vscode-notebook-cell:/d%3A/code/sem10.ipynb#W6sZmlsZQ%3D%3D?line=5'>6</a>\u001b[0m         \u001b[39mprint\u001b[39m(csv\u001b[39m.\u001b[39mreader(file))\n",
      "File \u001b[1;32m~\\AppData\\Roaming\\Python\\Python311\\site-packages\\IPython\\core\\interactiveshell.py:308\u001b[0m, in \u001b[0;36m_modified_open\u001b[1;34m(file, *args, **kwargs)\u001b[0m\n\u001b[0;32m    301\u001b[0m \u001b[39mif\u001b[39;00m file \u001b[39min\u001b[39;00m {\u001b[39m0\u001b[39m, \u001b[39m1\u001b[39m, \u001b[39m2\u001b[39m}:\n\u001b[0;32m    302\u001b[0m     \u001b[39mraise\u001b[39;00m \u001b[39mValueError\u001b[39;00m(\n\u001b[0;32m    303\u001b[0m         \u001b[39mf\u001b[39m\u001b[39m\"\u001b[39m\u001b[39mIPython won\u001b[39m\u001b[39m'\u001b[39m\u001b[39mt let you open fd=\u001b[39m\u001b[39m{\u001b[39;00mfile\u001b[39m}\u001b[39;00m\u001b[39m by default \u001b[39m\u001b[39m\"\u001b[39m\n\u001b[0;32m    304\u001b[0m         \u001b[39m\"\u001b[39m\u001b[39mas it is likely to crash IPython. If you know what you are doing, \u001b[39m\u001b[39m\"\u001b[39m\n\u001b[0;32m    305\u001b[0m         \u001b[39m\"\u001b[39m\u001b[39myou can use builtins\u001b[39m\u001b[39m'\u001b[39m\u001b[39m open.\u001b[39m\u001b[39m\"\u001b[39m\n\u001b[0;32m    306\u001b[0m     )\n\u001b[1;32m--> 308\u001b[0m \u001b[39mreturn\u001b[39;00m io_open(file, \u001b[39m*\u001b[39;49margs, \u001b[39m*\u001b[39;49m\u001b[39m*\u001b[39;49mkwargs)\n",
      "\u001b[1;31mFileNotFoundError\u001b[0m: [Errno 2] No such file or directory: 'participantsn.csv'"
     ]
    }
   ],
   "source": [
    "#8\n",
    "#t_header, t_rows, **columnvalues\n",
    "import csv\n",
    "def find_any():\n",
    "    with open('participantsn.csv') as file:\n",
    "        print(csv.reader(file))\n",
    "find_any()"
   ]
  },
  {
   "cell_type": "code",
   "execution_count": 61,
   "metadata": {},
   "outputs": [
    {
     "ename": "FileNotFoundError",
     "evalue": "[Errno 2] No such file or directory: 'participantsn.csv'",
     "output_type": "error",
     "traceback": [
      "\u001b[1;31m---------------------------------------------------------------------------\u001b[0m",
      "\u001b[1;31mFileNotFoundError\u001b[0m                         Traceback (most recent call last)",
      "\u001b[1;32md:\\code\\sem10.ipynb Cell 6\u001b[0m line \u001b[0;36m2\n\u001b[0;32m      <a href='vscode-notebook-cell:/d%3A/code/sem10.ipynb#X10sZmlsZQ%3D%3D?line=0'>1</a>\u001b[0m \u001b[39mimport\u001b[39;00m \u001b[39mcsv\u001b[39;00m\n\u001b[1;32m----> <a href='vscode-notebook-cell:/d%3A/code/sem10.ipynb#X10sZmlsZQ%3D%3D?line=1'>2</a>\u001b[0m \u001b[39mwith\u001b[39;00m \u001b[39mopen\u001b[39;49m(\u001b[39m'\u001b[39;49m\u001b[39mparticipantsn.csv\u001b[39;49m\u001b[39m'\u001b[39;49m) \u001b[39mas\u001b[39;00m file:\n\u001b[0;32m      <a href='vscode-notebook-cell:/d%3A/code/sem10.ipynb#X10sZmlsZQ%3D%3D?line=2'>3</a>\u001b[0m         a \u001b[39m=\u001b[39m csv\u001b[39m.\u001b[39mreader(file)\n\u001b[0;32m      <a href='vscode-notebook-cell:/d%3A/code/sem10.ipynb#X10sZmlsZQ%3D%3D?line=3'>4</a>\u001b[0m         \u001b[39mfor\u001b[39;00m row \u001b[39min\u001b[39;00m a:\n",
      "File \u001b[1;32m~\\AppData\\Roaming\\Python\\Python311\\site-packages\\IPython\\core\\interactiveshell.py:308\u001b[0m, in \u001b[0;36m_modified_open\u001b[1;34m(file, *args, **kwargs)\u001b[0m\n\u001b[0;32m    301\u001b[0m \u001b[39mif\u001b[39;00m file \u001b[39min\u001b[39;00m {\u001b[39m0\u001b[39m, \u001b[39m1\u001b[39m, \u001b[39m2\u001b[39m}:\n\u001b[0;32m    302\u001b[0m     \u001b[39mraise\u001b[39;00m \u001b[39mValueError\u001b[39;00m(\n\u001b[0;32m    303\u001b[0m         \u001b[39mf\u001b[39m\u001b[39m\"\u001b[39m\u001b[39mIPython won\u001b[39m\u001b[39m'\u001b[39m\u001b[39mt let you open fd=\u001b[39m\u001b[39m{\u001b[39;00mfile\u001b[39m}\u001b[39;00m\u001b[39m by default \u001b[39m\u001b[39m\"\u001b[39m\n\u001b[0;32m    304\u001b[0m         \u001b[39m\"\u001b[39m\u001b[39mas it is likely to crash IPython. If you know what you are doing, \u001b[39m\u001b[39m\"\u001b[39m\n\u001b[0;32m    305\u001b[0m         \u001b[39m\"\u001b[39m\u001b[39myou can use builtins\u001b[39m\u001b[39m'\u001b[39m\u001b[39m open.\u001b[39m\u001b[39m\"\u001b[39m\n\u001b[0;32m    306\u001b[0m     )\n\u001b[1;32m--> 308\u001b[0m \u001b[39mreturn\u001b[39;00m io_open(file, \u001b[39m*\u001b[39;49margs, \u001b[39m*\u001b[39;49m\u001b[39m*\u001b[39;49mkwargs)\n",
      "\u001b[1;31mFileNotFoundError\u001b[0m: [Errno 2] No such file or directory: 'participantsn.csv'"
     ]
    }
   ],
   "source": [
    "import csv\n",
    "with open('participantsn.csv') as file:\n",
    "        a = csv.reader(file)\n",
    "        for row in a:\n",
    "                print(row)"
   ]
  },
  {
   "cell_type": "code",
   "execution_count": 17,
   "metadata": {},
   "outputs": [
    {
     "name": "stdout",
     "output_type": "stream",
     "text": [
      "believe in their..\n",
      "Life is what 12345\n",
      "better than ugly!!\n",
      "Explicit is better\n"
     ]
    }
   ],
   "source": [
    "with open('lines.txt') as file:\n",
    "    a = file.read().split('\\n')\n",
    "    maxm = len(max(a, key=len))\n",
    "    \n",
    "    print(*[i for i in a if len(i) == maxm], sep='\\n')"
   ]
  },
  {
   "cell_type": "code",
   "execution_count": 70,
   "metadata": {},
   "outputs": [
    {
     "data": {
      "text/plain": [
       "[{'policyID': '119736',\n",
       "  'statecode': 'FL',\n",
       "  'county': 'CLAY COUNTY',\n",
       "  'eq_site_limit': '498960',\n",
       "  'hu_site_limit': '498960',\n",
       "  'fl_site_limit': '498960',\n",
       "  'fr_site_limit': '498960',\n",
       "  'tiv_2011': '498960',\n",
       "  'tiv_2012': '792148.9',\n",
       "  'eq_site_deductible': '0',\n",
       "  'hu_site_deductible': '9979.2',\n",
       "  'fl_site_deductible': '0',\n",
       "  'fr_site_deductible': '0',\n",
       "  'point_latitude': '30.102261',\n",
       "  'point_longitude': '-81.711777',\n",
       "  'line': 'Residential',\n",
       "  'construction': 'Masonry',\n",
       "  'point_granularity': '1'},\n",
       " {'policyID': '448094',\n",
       "  'statecode': 'FL',\n",
       "  'county': 'CLAY COUNTY',\n",
       "  'eq_site_limit': '1322376.3',\n",
       "  'hu_site_limit': '1322376.3',\n",
       "  'fl_site_limit': '1322376.3',\n",
       "  'fr_site_limit': '1322376.3',\n",
       "  'tiv_2011': '1322376.3',\n",
       "  'tiv_2012': '1438163.57',\n",
       "  'eq_site_deductible': '0',\n",
       "  'hu_site_deductible': '0',\n",
       "  'fl_site_deductible': '0',\n",
       "  'fr_site_deductible': '0',\n",
       "  'point_latitude': '30.063936',\n",
       "  'point_longitude': '-81.707664',\n",
       "  'line': 'Residential',\n",
       "  'construction': 'Masonry',\n",
       "  'point_granularity': '3'},\n",
       " {'policyID': '206893',\n",
       "  'statecode': 'FL',\n",
       "  'county': 'CLAY COUNTY',\n",
       "  'eq_site_limit': '190724.4',\n",
       "  'hu_site_limit': '190724.4',\n",
       "  'fl_site_limit': '190724.4',\n",
       "  'fr_site_limit': '190724.4',\n",
       "  'tiv_2011': '190724.4',\n",
       "  'tiv_2012': '192476.78',\n",
       "  'eq_site_deductible': '0',\n",
       "  'hu_site_deductible': '0',\n",
       "  'fl_site_deductible': '0',\n",
       "  'fr_site_deductible': '0',\n",
       "  'point_latitude': '30.089579',\n",
       "  'point_longitude': '-81.700455',\n",
       "  'line': 'Residential',\n",
       "  'construction': 'Wood',\n",
       "  'point_granularity': '1'},\n",
       " {'policyID': '333743',\n",
       "  'statecode': 'FL',\n",
       "  'county': 'CLAY COUNTY',\n",
       "  'eq_site_limit': '0',\n",
       "  'hu_site_limit': '79520.76',\n",
       "  'fl_site_limit': '0',\n",
       "  'fr_site_limit': '0',\n",
       "  'tiv_2011': '79520.76',\n",
       "  'tiv_2012': '86854.48',\n",
       "  'eq_site_deductible': '0',\n",
       "  'hu_site_deductible': '0',\n",
       "  'fl_site_deductible': '0',\n",
       "  'fr_site_deductible': '0',\n",
       "  'point_latitude': '30.063236',\n",
       "  'point_longitude': '-81.707703',\n",
       "  'line': 'Residential',\n",
       "  'construction': 'Wood',\n",
       "  'point_granularity': '3'},\n",
       " {'policyID': '172534',\n",
       "  'statecode': 'FL',\n",
       "  'county': 'CLAY COUNTY',\n",
       "  'eq_site_limit': '0',\n",
       "  'hu_site_limit': '254281.5',\n",
       "  'fl_site_limit': '0',\n",
       "  'fr_site_limit': '254281.5',\n",
       "  'tiv_2011': '254281.5',\n",
       "  'tiv_2012': '246144.49',\n",
       "  'eq_site_deductible': '0',\n",
       "  'hu_site_deductible': '0',\n",
       "  'fl_site_deductible': '0',\n",
       "  'fr_site_deductible': '0',\n",
       "  'point_latitude': '30.060614',\n",
       "  'point_longitude': '-81.702675',\n",
       "  'line': 'Residential',\n",
       "  'construction': 'Wood',\n",
       "  'point_granularity': '1'},\n",
       " {'policyID': '785275',\n",
       "  'statecode': 'FL',\n",
       "  'county': 'CLAY COUNTY',\n",
       "  'eq_site_limit': '0',\n",
       "  'hu_site_limit': '515035.62',\n",
       "  'fl_site_limit': '0',\n",
       "  'fr_site_limit': '0',\n",
       "  'tiv_2011': '515035.62',\n",
       "  'tiv_2012': '884419.17',\n",
       "  'eq_site_deductible': '0',\n",
       "  'hu_site_deductible': '0',\n",
       "  'fl_site_deductible': '0',\n",
       "  'fr_site_deductible': '0',\n",
       "  'point_latitude': '30.063236',\n",
       "  'point_longitude': '-81.707703',\n",
       "  'line': 'Residential',\n",
       "  'construction': 'Masonry',\n",
       "  'point_granularity': '3'},\n",
       " {'policyID': '995932',\n",
       "  'statecode': 'FL',\n",
       "  'county': 'CLAY COUNTY',\n",
       "  'eq_site_limit': '0',\n",
       "  'hu_site_limit': '19260000',\n",
       "  'fl_site_limit': '0',\n",
       "  'fr_site_limit': '0',\n",
       "  'tiv_2011': '19260000',\n",
       "  'tiv_2012': '20610000',\n",
       "  'eq_site_deductible': '0',\n",
       "  'hu_site_deductible': '0',\n",
       "  'fl_site_deductible': '0',\n",
       "  'fr_site_deductible': '0',\n",
       "  'point_latitude': '30.102226',\n",
       "  'point_longitude': '-81.713882',\n",
       "  'line': 'Commercial',\n",
       "  'construction': 'Reinforced Concrete',\n",
       "  'point_granularity': '1'},\n",
       " {'policyID': '223488',\n",
       "  'statecode': 'FL',\n",
       "  'county': 'CLAY COUNTY',\n",
       "  'eq_site_limit': '328500',\n",
       "  'hu_site_limit': '328500',\n",
       "  'fl_site_limit': '328500',\n",
       "  'fr_site_limit': '328500',\n",
       "  'tiv_2011': '328500',\n",
       "  'tiv_2012': '348374.25',\n",
       "  'eq_site_deductible': '0',\n",
       "  'hu_site_deductible': '16425',\n",
       "  'fl_site_deductible': '0',\n",
       "  'fr_site_deductible': '0',\n",
       "  'point_latitude': '30.102217',\n",
       "  'point_longitude': '-81.707146',\n",
       "  'line': 'Residential',\n",
       "  'construction': 'Wood',\n",
       "  'point_granularity': '1'},\n",
       " {'policyID': '433512',\n",
       "  'statecode': 'FL',\n",
       "  'county': 'CLAY COUNTY',\n",
       "  'eq_site_limit': '315000',\n",
       "  'hu_site_limit': '315000',\n",
       "  'fl_site_limit': '315000',\n",
       "  'fr_site_limit': '315000',\n",
       "  'tiv_2011': '315000',\n",
       "  'tiv_2012': '265821.57',\n",
       "  'eq_site_deductible': '0',\n",
       "  'hu_site_deductible': '15750',\n",
       "  'fl_site_deductible': '0',\n",
       "  'fr_site_deductible': '0',\n",
       "  'point_latitude': '30.118774',\n",
       "  'point_longitude': '-81.704613',\n",
       "  'line': 'Residential',\n",
       "  'construction': 'Wood',\n",
       "  'point_granularity': '1'},\n",
       " {'policyID': '142071',\n",
       "  'statecode': 'FL',\n",
       "  'county': 'CLAY COUNTY',\n",
       "  'eq_site_limit': '705600',\n",
       "  'hu_site_limit': '705600',\n",
       "  'fl_site_limit': '705600',\n",
       "  'fr_site_limit': '705600',\n",
       "  'tiv_2011': '705600',\n",
       "  'tiv_2012': '1010842.56',\n",
       "  'eq_site_deductible': '14112',\n",
       "  'hu_site_deductible': '35280',\n",
       "  'fl_site_deductible': '0',\n",
       "  'fr_site_deductible': '0',\n",
       "  'point_latitude': '30.100628',\n",
       "  'point_longitude': '-81.703751',\n",
       "  'line': 'Residential',\n",
       "  'construction': 'Masonry',\n",
       "  'point_granularity': '1'}]"
      ]
     },
     "execution_count": 70,
     "metadata": {},
     "output_type": "execute_result"
    }
   ],
   "source": [
    "def read_csv():\n",
    "    with open('data.csv') as file:\n",
    "        res = []\n",
    "        l = file.readline().rstrip().split(',')\n",
    "        rest = [i.rstrip().split(',') for i in file.readlines()]\n",
    "        for i in rest:\n",
    "            res.append({k: v for k, v in zip(l, i)})\n",
    "        return res\n",
    "read_csv()\n",
    "\n"
   ]
  },
  {
   "cell_type": "code",
   "execution_count": 71,
   "metadata": {},
   "outputs": [],
   "source": [
    "with open('class_scores.txt') as file, open('new_scores.txt', 'w') as new_file:\n",
    "    for line in file:\n",
    "        if int(line.split()[-1]) < 95:\n",
    "            new_file.write(f'{line[0]} {int(line.split()[-1]) + 5}\\n')\n",
    "        else:\n",
    "            new_file.write(f'{line[0]} {100}\\n')"
   ]
  },
  {
   "cell_type": "code",
   "execution_count": 76,
   "metadata": {},
   "outputs": [
    {
     "name": "stdout",
     "output_type": "stream",
     "text": [
      "минус тридцать пять\n"
     ]
    }
   ],
   "source": [
    "def number_to_words(number):\n",
    "    units = [\"\", \"один\", \"два\", \"три\", \"четыре\", \"пять\", \"шесть\", \"семь\", \"восемь\", \"девять\"]\n",
    "    tens = [\"\", \"\", \"двадцать\", \"тридцать\", \"сорок\", \"пятьдесят\", \"шестьдесят\", \"семьдесят\", \"восемьдесят\", \"девяносто\"]\n",
    "    teens = [\"десять\", \"одиннадцать\", \"двенадцать\", \"тринадцать\", \"четырнадцать\", \"пятнадцать\", \"шестнадцать\", \"семнадцать\", \"восемнадцать\", \"девятнадцать\"]\n",
    "    hundreds = [\"\", \"сто\", \"двести\", \"триста\", \"четыреста\", \"пятьсот\", \"шестьсот\", \"семьсот\", \"восемьсот\", \"девятьсот\"]\n",
    "\n",
    "    if number == 0:\n",
    "        return \"ноль\"\n",
    "\n",
    "    if number < 0:\n",
    "        return \"минус \" + number_to_words(abs(number))\n",
    "\n",
    "    result = \"\"\n",
    "\n",
    "    if (number // 100) > 0:\n",
    "        result += hundreds[number // 100] + \" \"\n",
    "        number %= 100\n",
    "\n",
    "    if (number // 10) > 1:\n",
    "        result += tens[number // 10] + \" \"\n",
    "        number %= 10\n",
    "\n",
    "    if number == 0:\n",
    "        return result.strip()\n",
    "\n",
    "    if number < 10:\n",
    "        result += units[number] + \" \"\n",
    "    else:\n",
    "        result += teens[number - 10] + \" \"\n",
    "\n",
    "    return result.strip()\n",
    "\n",
    "\n",
    "# Пример использования\n",
    "number = -35\n",
    "print(number_to_words(number))"
   ]
  },
  {
   "cell_type": "code",
   "execution_count": 77,
   "metadata": {},
   "outputs": [
    {
     "name": "stdout",
     "output_type": "stream",
     "text": [
      "три целых и пять десятых\n"
     ]
    }
   ],
   "source": [
    "def number_to_words(number):\n",
    "    units = [\"\", \"один\", \"два\", \"три\", \"четыре\", \"пять\", \"шесть\", \"семь\", \"восемь\", \"девять\"]\n",
    "    tens = [\"\", \"\", \"двадцать\", \"тридцать\", \"сорок\", \"пятьдесят\", \"шестьдесят\", \"семьдесят\", \"восемьдесят\", \"девяносто\"]\n",
    "    teens = [\"десять\", \"одиннадцать\", \"двенадцать\", \"тринадцать\", \"четырнадцать\", \"пятнадцать\", \"шестнадцать\", \"семнадцать\", \"восемнадцать\", \"девятнадцать\"]\n",
    "    hundreds = [\"\", \"сто\", \"двести\", \"триста\", \"четыреста\", \"пятьсот\", \"шестьсот\", \"семьсот\", \"восемьсот\", \"девятьсот\"]\n",
    "\n",
    "    if number == 0:\n",
    "        return \"ноль\"\n",
    "\n",
    "    if number < 0:\n",
    "        return \"минус \" + number_to_words(abs(number))\n",
    "\n",
    "    result = \"\"\n",
    "\n",
    "    integer_part = int(number)\n",
    "    decimal_part = int(round((number - integer_part) * 10))\n",
    "\n",
    "    if integer_part > 0:\n",
    "        if (integer_part // 100) > 0:\n",
    "            result += hundreds[integer_part // 100] + \" \"\n",
    "            integer_part %= 100\n",
    "\n",
    "        if (integer_part // 10) > 1:\n",
    "            result += tens[integer_part // 10] + \" \"\n",
    "            integer_part %= 10\n",
    "\n",
    "        if integer_part == 0:\n",
    "            result += \"целых\"\n",
    "        elif integer_part < 10:\n",
    "            result += units[integer_part] + \" целых\"\n",
    "        else:\n",
    "            result += teens[integer_part - 10] + \" целых\"\n",
    "\n",
    "    if decimal_part > 0:\n",
    "        result += \" и \"\n",
    "\n",
    "        if (decimal_part // 10) > 1:\n",
    "            result += tens[decimal_part // 10] + \" \"\n",
    "            decimal_part %= 10\n",
    "\n",
    "        if decimal_part < 10:\n",
    "            result += units[decimal_part] + \" десятых\"\n",
    "        else:\n",
    "            result += teens[decimal_part - 10] + \" десятых\"\n",
    "\n",
    "    return result.strip()\n",
    "print(number_to_words(3.5))"
   ]
  }
 ],
 "metadata": {
  "kernelspec": {
   "display_name": "Python 3",
   "language": "python",
   "name": "python3"
  },
  "language_info": {
   "codemirror_mode": {
    "name": "ipython",
    "version": 3
   },
   "file_extension": ".py",
   "mimetype": "text/x-python",
   "name": "python",
   "nbconvert_exporter": "python",
   "pygments_lexer": "ipython3",
   "version": "3.11.4"
  }
 },
 "nbformat": 4,
 "nbformat_minor": 2
}
