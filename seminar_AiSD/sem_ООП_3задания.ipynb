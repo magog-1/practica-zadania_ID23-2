{
 "cells": [
  {
   "cell_type": "code",
   "execution_count": 1,
   "metadata": {},
   "outputs": [
    {
     "name": "stdout",
     "output_type": "stream",
     "text": [
      "True\n",
      "False\n",
      "3.7416573867739413\n"
     ]
    }
   ],
   "source": [
    "import math\n",
    "\n",
    "class IntegerVector:\n",
    "    def __init__(self, dimension, coordinates):\n",
    "        self.dimension = dimension\n",
    "        self.coordinates = coordinates\n",
    "        \n",
    "    def __eq__(self, other):\n",
    "        if self.dimension != other.dimension:\n",
    "            return False\n",
    "        for i in range(self.dimension):\n",
    "            if self.coordinates[i] != other.coordinates[i]:\n",
    "                return False\n",
    "        return True\n",
    "    \n",
    "    def length(self):\n",
    "        sum_sq = sum([coord**2 for coord in self.coordinates])\n",
    "        return math.sqrt(sum_sq)\n",
    "\n",
    "v1 = IntegerVector(3, [1, 2, 3])\n",
    "v2 = IntegerVector(3, [1, 2, 3])\n",
    "v3 = IntegerVector(3, [3, 4, 5])\n",
    "\n",
    "print(v1 == v2)  \n",
    "print(v1 == v3)  \n",
    "\n",
    "print(v1.length())  \n"
   ]
  },
  {
   "cell_type": "markdown",
   "metadata": {},
   "source": [
    "Класс – комплексное число. Методы – сумма, разность, произведение комплексных чисел. Поля – действительная и мнимая часть комплексного числа.\n"
   ]
  },
  {
   "cell_type": "code",
   "execution_count": 16,
   "metadata": {},
   "outputs": [
    {
     "name": "stdout",
     "output_type": "stream",
     "text": [
      "c1 = 1 + 2i\n",
      "c2 = 2 + 3i\n",
      "c1 + c2 = 3 + 5i\n",
      "c1 - c2 = -1 + -1i\n",
      "c1 * c2 = -4 + 7i\n"
     ]
    }
   ],
   "source": [
    "#1\n",
    "\n",
    "class ComplexNumber:\n",
    "    def __init__(self, real_part, imaginary_part):\n",
    "        self.real_part = real_part  \n",
    "        self.imaginary_part = imaginary_part  \n",
    "    \n",
    "    def add(self, other):\n",
    "        real_sum = self.real_part + other.real_part\n",
    "        imaginary_sum = self.imaginary_part + other.imaginary_part\n",
    "        return ComplexNumber(real_sum, imaginary_sum)\n",
    "    \n",
    "    def subtract(self, other):\n",
    "        real_diff = self.real_part - other.real_part\n",
    "        imaginary_diff = self.imaginary_part - other.imaginary_part\n",
    "        return ComplexNumber(real_diff, imaginary_diff)\n",
    "    \n",
    "    def multiply(self, other):\n",
    "        real_mult = self.real_part * other.real_part - self.imaginary_part * other.imaginary_part\n",
    "        imaginary_mult = self.real_part * other.imaginary_part + self.imaginary_part * other.real_part\n",
    "        return ComplexNumber(real_mult, imaginary_mult)\n",
    "    \n",
    "    def __str__(self):\n",
    "        return f\"{self.real_part} + {self.imaginary_part}i\"\n",
    "\n",
    "\n",
    "c1 = ComplexNumber(1, 2)\n",
    "c2 = ComplexNumber(2, 3)\n",
    "\n",
    "print(\"c1 =\", c1)\n",
    "print(\"c2 =\", c2)\n",
    "print(\"c1 + c2 =\", c1.add(c2))\n",
    "print(\"c1 - c2 =\", c1.subtract(c2))\n",
    "print(\"c1 * c2 =\", c1.multiply(c2))\n"
   ]
  },
  {
   "cell_type": "markdown",
   "metadata": {},
   "source": [
    "Опишите класс Point. Для точки задаются декартовы координаты  x ,  y . Включите в описание класса методы, позволяющие вывести координаты точки на экран, рассчитать расстояние от начала координат до точки, пе-реместить точку на плоскости на вектор  (a,b)  и свойство, позволяющее умножить координаты точки на скаляр."
   ]
  },
  {
   "cell_type": "code",
   "execution_count": 20,
   "metadata": {},
   "outputs": [
    {
     "name": "stdout",
     "output_type": "stream",
     "text": [
      "Coordinates of the point: (5, 8)\n",
      "Distance from the origin: 9.433981132056603\n",
      "Coordinates of the point: (12, 5)\n",
      "Coordinates of the point: (24, 10)\n"
     ]
    }
   ],
   "source": [
    "#2\n",
    "class Point(object):\n",
    "    def __init__(self, x, y):\n",
    "        self.x = x\n",
    "        self.y = y\n",
    "\n",
    "    def displaycoordinates(self):\n",
    "        print(f\"Coordinates of the point: ({self.x}, {self.y})\")\n",
    "        \n",
    "    def distancefromorigin(self):\n",
    "        distance = ((self.x)**2 + (self.y)**2)**0.5\n",
    "        return distance\n",
    "\n",
    "    def movepoint(self, a, b):\n",
    "        self.x += a\n",
    "        self.y += b\n",
    "        \n",
    "    def multiplyscalar(self, scalar):\n",
    "        self.x *= scalar\n",
    "        self.y *= scalar\n",
    "\n",
    "\n",
    "p = Point(5, 8)\n",
    "p.displaycoordinates()\n",
    "print(\"Distance from the origin:\", p.distancefromorigin())\n",
    "\n",
    "p.movepoint(7, -3)\n",
    "p.displaycoordinates()\n",
    "\n",
    "p.multiplyscalar(2)\n",
    "p.displaycoordinates()"
   ]
  },
  {
   "cell_type": "markdown",
   "metadata": {},
   "source": [
    "Создайте класс ФИГУРА с методами вычисления площади и периметра, а также методом, выводящим информацию о фигуре на экран. Создайте дочерние классы ПРЯМОУГОЛЬНИК, КРУГ, ТРЕУГОЛЬНИК со своими методами вычисления площади и периметра. Создайте список  n  фигур и выведите полную информацию о фигурах на экран."
   ]
  },
  {
   "cell_type": "code",
   "execution_count": 26,
   "metadata": {},
   "outputs": [
    {
     "name": "stdout",
     "output_type": "stream",
     "text": [
      "Rectangle: width = 4 , height = 5\n",
      "Area: 20\n",
      "Perimeter: 18 \n",
      "\n",
      "Circle: radius = 3\n",
      "Area: 28.259999999999998\n",
      "Perimeter: 18.84 \n",
      "\n",
      "Triangle: side1 = 3 , side2 = 4 , side3 = 5\n",
      "Area: 6.0\n",
      "Perimeter: 12 \n",
      "\n"
     ]
    }
   ],
   "source": [
    "#3\n",
    "class Figure:\n",
    "    def area(self):\n",
    "        pass\n",
    "\n",
    "    def perimeter(self):\n",
    "        pass\n",
    "\n",
    "    def info(self):\n",
    "        pass\n",
    "\n",
    "\n",
    "class Rectangle(Figure):\n",
    "    def __init__(self, width, height):\n",
    "        self.width = width\n",
    "        self.height = height\n",
    "\n",
    "    def area(self):\n",
    "        return self.width * self.height\n",
    "\n",
    "    def perimeter(self):\n",
    "        return 2 * (self.width + self.height)\n",
    "\n",
    "    def info(self):\n",
    "        print(\"Rectangle: width =\", self.width, \", height =\", self.height)\n",
    "\n",
    "\n",
    "class Circle(Figure):\n",
    "    def __init__(self, radius):\n",
    "        self.radius = radius\n",
    "\n",
    "    def area(self):\n",
    "        return 3.14 * self.radius * self.radius\n",
    "\n",
    "    def perimeter(self):\n",
    "        return 2 * 3.14 * self.radius\n",
    "\n",
    "    def info(self):\n",
    "        print(\"Circle: radius =\", self.radius)\n",
    "\n",
    "\n",
    "class Triangle(Figure):\n",
    "    def __init__(self, side1, side2, side3):\n",
    "        self.side1 = side1\n",
    "        self.side2 = side2\n",
    "        self.side3 = side3\n",
    "\n",
    "    def area(self):\n",
    "        s = (self.side1 + self.side2 + self.side3) / 2\n",
    "        return (s * (s - self.side1) * (s - self.side2) * (s - self.side3)) ** 0.5\n",
    "\n",
    "    def perimeter(self):\n",
    "        return self.side1 + self.side2 + self.side3\n",
    "\n",
    "    def info(self):\n",
    "        print(\"Triangle: side1 =\", self.side1, \", side2 =\", self.side2, \", side3 =\", self.side3)\n",
    "\n",
    "\n",
    "figures = [Rectangle(4, 5), Circle(3), Triangle(3, 4, 5)]\n",
    "\n",
    "for figure in figures:\n",
    "    figure.info()\n",
    "    print(\"Area:\", figure.area())\n",
    "    print(\"Perimeter:\", figure.perimeter(), '\\n')"
   ]
  },
  {
   "cell_type": "code",
   "execution_count": null,
   "metadata": {},
   "outputs": [],
   "source": []
  }
 ],
 "metadata": {
  "kernelspec": {
   "display_name": "Python 3",
   "language": "python",
   "name": "python3"
  },
  "language_info": {
   "codemirror_mode": {
    "name": "ipython",
    "version": 3
   },
   "file_extension": ".py",
   "mimetype": "text/x-python",
   "name": "python",
   "nbconvert_exporter": "python",
   "pygments_lexer": "ipython3",
   "version": "3.11.4"
  }
 },
 "nbformat": 4,
 "nbformat_minor": 2
}
