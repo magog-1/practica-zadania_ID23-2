{
 "cells": [
  {
   "cell_type": "code",
   "execution_count": 38,
   "id": "8bd380fa",
   "metadata": {},
   "outputs": [
    {
     "name": "stdout",
     "output_type": "stream",
     "text": [
      "{1: 'a', 2: 'b', 3: 'c', 4: 'd', 5: 'e', 6: 'f'}\n"
     ]
    }
   ],
   "source": [
    "#1\n",
    "s = 'abcdef'\n",
    "d = {}\n",
    "cnt = 1\n",
    "for c in s:\n",
    "    d.setdefault(cnt, c)\n",
    "    cnt += 1\n",
    "print(d)"
   ]
  },
  {
   "cell_type": "code",
   "execution_count": 39,
   "id": "c1c43287",
   "metadata": {},
   "outputs": [
    {
     "name": "stdout",
     "output_type": "stream",
     "text": [
      "3\n"
     ]
    }
   ],
   "source": [
    "#2\n",
    "l1 = [1, 2, 3, 4, 5]\n",
    "d1 = {1: 'one', 2: 'two', 3: 'three'}\n",
    "\n",
    "cnt = 0\n",
    "for item in l1:\n",
    "    if item in d1:\n",
    "        cnt += 1\n",
    "print(cnt)"
   ]
  },
  {
   "cell_type": "code",
   "execution_count": 3,
   "id": "479e97e8",
   "metadata": {},
   "outputs": [
    {
     "name": "stdout",
     "output_type": "stream",
     "text": [
      "{'e': 3, 'v': 1, 'g': 1, 'n': 1, '_': 1, 'o': 1}\n"
     ]
    }
   ],
   "source": [
    "#3\n",
    "s = 'evgene_o'\n",
    "d = {}\n",
    "\n",
    "for c in s:\n",
    "    d.setdefault(c, s.count(c))\n",
    "print(d)"
   ]
  },
  {
   "cell_type": "code",
   "execution_count": 6,
   "id": "fc4dd931",
   "metadata": {},
   "outputs": [
    {
     "name": "stdout",
     "output_type": "stream",
     "text": [
      "#5 {'key1': 1, 'key2': 2, 'key3': 3, 'key4': 4, 'key5': 5, 'key6': 6}\n",
      "21\n",
      "720\n"
     ]
    }
   ],
   "source": [
    "#5\n",
    "dic1 = {'key1': 1, 'key2': 2}\n",
    "dic2 = {'key3': 3, 'key4': 4}\n",
    "dic3 = {'key5': 5, 'key6': 6}\n",
    "\n",
    "dic4 = {}\n",
    "dic4.update(dic1)\n",
    "dic4.update(dic2)\n",
    "dic4.update(dic3)\n",
    "\n",
    "print('#5', dic4)\n",
    "\n",
    "\n",
    "\n",
    "\n",
    "\n",
    "\n",
    "\n",
    "\n",
    "\n",
    "\n",
    "#6\n",
    "print(sum(dict.values(dic4)))\n",
    "\n",
    "#7\n",
    "res = 1\n",
    "for i in dict.values(dic4):\n",
    "    res *= i\n",
    "print(res)"
   ]
  },
  {
   "cell_type": "code",
   "execution_count": 7,
   "id": "52f19322",
   "metadata": {},
   "outputs": [
    {
     "name": "stdout",
     "output_type": "stream",
     "text": [
      "#9 {'k2': 2, 'k4': 4}\n",
      "#10 {1: 'k1', 2: 'k2', 3: 'k3', 4: 'k4'}\n"
     ]
    }
   ],
   "source": [
    "#9\n",
    "dic6 = {'k1': 1, 'k2': 2, 'k3': 3, 'k4': 4}\n",
    "dic5 = {'k1': 1, 'k3': 3}\n",
    "\n",
    "dic7 = {k: v for k, v in dic6.items() if k not in dic5}\n",
    "print('#9',dic7)\n",
    "\n",
    "#10\n",
    "dic8 = dic5\n",
    "dic8 = {k: v for v, k in dic6.items() if k not in dic5}\n",
    "print('#10',dic8)\n"
   ]
  },
  {
   "cell_type": "code",
   "execution_count": null,
   "id": "accd5767",
   "metadata": {},
   "outputs": [],
   "source": [
    "# 4.12\n",
    "import random\n",
    "d = {}\n",
    "while True:\n",
    "    n = input()\n",
    "    if n not in d:\n",
    "        d[n] = 1\n",
    "        \n",
    "    if n in d:\n",
    "        d[n] = list(d.keys()).count(n) + 1\n",
    "        print(d)\n",
    "    if 5 in list(d.values()):\n",
    "        break\n",
    "    if n == '':\n",
    "        break\n",
    "        \n",
    "        \n",
    "        \n",
    "        "
   ]
  },
  {
   "cell_type": "markdown",
   "id": "a1f06089",
   "metadata": {},
   "source": []
  },
  {
   "cell_type": "code",
   "execution_count": null,
   "id": "c982ee7d",
   "metadata": {},
   "outputs": [],
   "source": []
  }
 ],
 "metadata": {
  "kernelspec": {
   "display_name": "Python 3 (ipykernel)",
   "language": "python",
   "name": "python3"
  },
  "language_info": {
   "codemirror_mode": {
    "name": "ipython",
    "version": 3
   },
   "file_extension": ".py",
   "mimetype": "text/x-python",
   "name": "python",
   "nbconvert_exporter": "python",
   "pygments_lexer": "ipython3",
   "version": "3.11.5"
  }
 },
 "nbformat": 4,
 "nbformat_minor": 5
}
