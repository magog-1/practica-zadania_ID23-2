{
 "cells": [
  {
   "cell_type": "markdown",
   "metadata": {},
   "source": [
    "Написать 4 функции порождения списка целых значений: отсортированного (по возрастанию и убыванию), случайного и почти отсортированного по возрастанию. Каждая функция принимает длину списка в качестве аргумента."
   ]
  },
  {
   "cell_type": "code",
   "execution_count": 20,
   "metadata": {},
   "outputs": [],
   "source": [
    "#1\n",
    "import random\n",
    "\n",
    "# Функция для генерации отсортированного списка по возрастанию\n",
    "def generate_sorted_list_asc(length):\n",
    "    return list(range(1, length+1))\n",
    "\n",
    "# Функция для генерации отсортированного списка по убыванию\n",
    "def generate_sorted_list_desc(length):\n",
    "    return list(range(length, 0, -1))\n",
    "\n",
    "# Функция для генерации случайного списка\n",
    "def generate_random_list(length):\n",
    "    return [random.randint(1, 100) for _ in range(length)]\n",
    "\n",
    "# Функция для генерации почти отсортированного списка по возрастанию\n",
    "def generate_almost_sorted_list_asc(length):\n",
    "    lst = list(range(1, length+1))\n",
    "    random.shuffle(lst)\n",
    "    return lst\n"
   ]
  },
  {
   "cell_type": "markdown",
   "metadata": {},
   "source": [
    "Реализовать функцию тестирования алгоритма сортировки. Процедура принимает на вход алгоритм сортировки и алгоритм порождения списка f_gen(list_len), генерирующий список заданной длины, количество повтороений теста и список длин использующихся для тестирования. Для каждой длины списка функция тестирования возвращает минимальное, среднее и наибольшее количество сравнений и перестановок."
   ]
  },
  {
   "cell_type": "code",
   "execution_count": 21,
   "metadata": {},
   "outputs": [
    {
     "name": "stdout",
     "output_type": "stream",
     "text": [
      "For len 5 |compares| max = 42.0, min = 15.0, average = 29.2 \n",
      "For len 5 |transpositions| max = 73.0, min = 26.0, average = 45.2 \n",
      "\n",
      "For len 8 |compares| max = 55.0, min = 7.0, average = 20.5 \n",
      "For len 8 |transpositions| max = 57.0, min = 11.0, average = 30.6 \n",
      "\n",
      "For len 10 |compares| max = 42.0, min = 2.0, average = 22.3 \n",
      "For len 10 |transpositions| max = 50.0, min = 11.0, average = 32.7 \n",
      "\n"
     ]
    }
   ],
   "source": [
    "import numpy as np\n",
    "\n",
    "def sort_test(sort_type, gen_type, repeats, lns=None):\n",
    "    for ln in lns:\n",
    "        compares = np.array([])\n",
    "        transpositions = np.array([])\n",
    "        for _ in range(repeats):\n",
    "            temp = sort_type(gen_type(ln))\n",
    "            compares = np.append(compares, temp[1])\n",
    "            transpositions = np.append(transpositions, temp[2])\n",
    "        print(f'For len {ln} |compares| max = {np.max(compares)}, min = {np.min(compares)}, average = {np.mean(compares)} ')\n",
    "        print(f'For len {ln} |transpositions| max = {np.max(transpositions)}, min = {np.min(transpositions)}, average = {np.mean(transpositions)} ', end='\\n\\n')\n",
    "        \n",
    "\n",
    "    \n",
    "sort_test(stone_bubble_sort, generate_random_list, repeats=10, lns=[5, 8, 10])\n",
    "#sort_test(selection_sort_cntr, gen_rand, repeats=100, lns=[5, 8, 10])\n"
   ]
  },
  {
   "cell_type": "markdown",
   "metadata": {},
   "source": [
    "Реализовать модификацию сортировки пузырьком: \"камешек-пузырек\" - с чередующимися проходами, приводящими к \"всплытию\" самого большого значения списка и \"погружению\" самого маленького значения из неотсортированной части списка.\n"
   ]
  },
  {
   "cell_type": "code",
   "execution_count": 17,
   "metadata": {},
   "outputs": [],
   "source": [
    "def stone_bubble_sort(arr):\n",
    "    n = len(arr)\n",
    "    left = 0\n",
    "    right = n - 1\n",
    "    \n",
    "    while left <= right:\n",
    "        # Всплытие самого большого элемента\n",
    "        for i in range(left, right):\n",
    "            if arr[i] > arr[i + 1]:\n",
    "                arr[i], arr[i + 1] = arr[i + 1], arr[i]\n",
    "        \n",
    "        right -= 1\n",
    "        \n",
    "        # Погружение самого маленького элемента\n",
    "        for i in range(right, left, -1):\n",
    "            if arr[i] < arr[i - 1]:\n",
    "                arr[i], arr[i - 1] = arr[i - 1], arr[i]\n",
    "        \n",
    "        left += 1\n",
    "    \n",
    "    return arr\n"
   ]
  },
  {
   "cell_type": "code",
   "execution_count": 18,
   "metadata": {},
   "outputs": [
    {
     "data": {
      "text/plain": [
       "[1, 1, 2, 3, 3, 4, 5, 5, 5, 6, 9]"
      ]
     },
     "execution_count": 18,
     "metadata": {},
     "output_type": "execute_result"
    }
   ],
   "source": [
    "my_list = [3, 1, 4, 1, 5, 9, 2, 6, 5, 3, 5]\n",
    "stone_bubble_sort(my_list)\n"
   ]
  },
  {
   "cell_type": "markdown",
   "metadata": {},
   "source": [
    "Реализовать модификацию сортировки выбором на основе выбора из подсписков (описанного в лекции)."
   ]
  },
  {
   "cell_type": "code",
   "execution_count": 19,
   "metadata": {},
   "outputs": [
    {
     "name": "stdout",
     "output_type": "stream",
     "text": [
      "[14, 14, 17, 18, 21, 23, 30, 35, 39, 43, 44, 45, 53, 56, 61, 67, 73, 74, 76, 87, 89, 90, 93, 96, 98]\n",
      "[14, 14, 17, 18, 21, 23, 30, 35, 39, 43, 44, 45, 53, 56, 61, 67, 73, 74, 76, 87, 89, 90, 93, 96, 98]\n"
     ]
    }
   ],
   "source": [
    "from math import sqrt\n",
    "def selection_sort_cntr(x):\n",
    "    compares = 0\n",
    "    transpositions = 0\n",
    "    for fill_slot in range(len(x) - 1, 0, -1):\n",
    "        pos_of_max = 0\n",
    "\n",
    "        for location in range(1, fill_slot + 1):\n",
    "            compares+=1\n",
    "            if x[location] > x[pos_of_max]:\n",
    "                pos_of_max = location\n",
    "        x[pos_of_max], x[fill_slot] = x[fill_slot], x[pos_of_max]\n",
    "        transpositions+=1\n",
    "    return x, compares, transpositions\n",
    "\n",
    "\n",
    "mas = [73, 14, 98, 35, 89, 53, 17, 45, 56, 67, 74, 87, 90, 44, 43, 93, 61, 30, 18, 96, 39, 23, 76, 14, 21]\n",
    "a = mas.copy()\n",
    "maximums = []\n",
    "group_size = int(sqrt(len(mas)))\n",
    "\n",
    "for splt in range(0, len(mas), group_size):\n",
    "    mx = splt + group_size - 2\n",
    "\n",
    "    for el in range(splt, splt+group_size):\n",
    "\n",
    "            if mas[el] > mas[mx]:\n",
    "                mx = el\n",
    "\n",
    "    maximums.append(mx)\n",
    "    \n",
    "try_res = []    \n",
    "for all in range(len(mas) - 1, -1, -1): \n",
    "    mx = maximums[0]\n",
    "    for i in maximums:\n",
    "        if mas[i] > mas[mx]:\n",
    "            mx = i\n",
    "    \n",
    "    try_res.append(mas[mx])\n",
    "    mas[mx] = 0 #меняем местами локальный максимум в исходном списке\n",
    "    \n",
    "    ind_deleted = maximums.index(mx)\n",
    "    \n",
    "    m_x = group_size * ind_deleted\n",
    "    for i in range(group_size * ind_deleted, group_size * ind_deleted + group_size):\n",
    "        if mas[m_x] < mas[i]:\n",
    "            m_x = i\n",
    "    maximums[ind_deleted] = m_x\n",
    "print(sorted(a))\n",
    "print(try_res[::-1])"
   ]
  },
  {
   "cell_type": "code",
   "execution_count": null,
   "metadata": {},
   "outputs": [],
   "source": []
  }
 ],
 "metadata": {
  "kernelspec": {
   "display_name": "Python 3",
   "language": "python",
   "name": "python3"
  },
  "language_info": {
   "codemirror_mode": {
    "name": "ipython",
    "version": 3
   },
   "file_extension": ".py",
   "mimetype": "text/x-python",
   "name": "python",
   "nbconvert_exporter": "python",
   "pygments_lexer": "ipython3",
   "version": "3.11.4"
  }
 },
 "nbformat": 4,
 "nbformat_minor": 2
}
