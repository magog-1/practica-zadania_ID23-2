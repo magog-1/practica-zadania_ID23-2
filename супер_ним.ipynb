{
 "cells": [
  {
   "cell_type": "code",
   "execution_count": null,
   "id": "1a9c5d52",
   "metadata": {},
   "outputs": [
    {
     "name": "stdout",
     "output_type": "stream",
     "text": [
      "  a  b  c  d  e  f  g  h\n",
      "1[0, 1, 0, 0, 1, 1, 0, 1]\n",
      "2[1, 0, 1, 0, 1, 0, 1, 0]\n",
      "3[0, 0, 0, 1, 1, 1, 0, 1]\n",
      "4[1, 1, 0, 1, 1, 0, 0, 1]\n",
      "5[1, 1, 0, 1, 1, 1, 1, 0]\n",
      "6[1, 1, 0, 0, 1, 1, 1, 1]\n",
      "7[1, 1, 1, 1, 0, 0, 0, 0]\n",
      "8[1, 0, 1, 1, 0, 1, 1, 1]\n",
      "\n",
      "Игрок 1 вводит координаты\n"
     ]
    }
   ],
   "source": [
    "from random import randint\n",
    "\n",
    "print('  a  b  c  d  e  f  g  h')\n",
    "brd = [[],[],[],[],[],[],[],[]]\n",
    "for el in brd:\n",
    "    for i in range(8):\n",
    "        el.append(randint(0,1))\n",
    "\n",
    "for idx, i in enumerate(brd):\n",
    "    print((chr(ord('1') + idx)) + str(i))\n",
    "x = {'a':0,'b':1,'c':2,'d':3,'e':4,'f':5,'g':6,'h':7}\n",
    "y = {'1':0, '2':1, '3':2, '4':3, '5':4, '6':5, '7':6, '8':7}\n",
    "\n",
    "def f(letter):\n",
    "    str_1 = 'abcdefgh'\n",
    "    str_2 = '12345678'\n",
    "    if letter in str_1:\n",
    "        for i in brd:\n",
    "            i[x[letter]] = 0\n",
    "    if letter in str_2:\n",
    "        brd[y[letter]] = [0]*8\n",
    "  \n",
    "    print('  a  b  c  d  e  f  g  h')\n",
    "    for idx,i in enumerate(brd):\n",
    "        print((chr(ord('1') + idx)) + str(i))\n",
    "\n",
    "arr = []\n",
    "\n",
    "def play():\n",
    "    a = ''\n",
    "    while a != 'Игрок 1 победил' and a != 'Игрок 2 победил':\n",
    "        if 1 in brd[0] or 1 in brd[1] or 1 in brd[2] or 1 in brd[3] or 1 in brd[4] or 1 in brd[5] or 1 in brd[6] or 1 in brd[7]:\n",
    "            print('\\nИгрок 1 вводит координаты')\n",
    "            letter = input()\n",
    "            f(letter)\n",
    "            arr.append(1)\n",
    "        if 1 in brd[0] or 1 in brd[1] or 1 in brd[2] or 1 in brd[3] or 1 in brd[4] or 1 in brd[5] or 1 in brd[6] or 1 in brd[7]:\n",
    "            print('\\nИгрок 2 вводит координаты')\n",
    "            letter = input()\n",
    "            f(letter)\n",
    "            arr.append(2)\n",
    "        else:\n",
    "            if arr[-1] == 1:\n",
    "                a = 'Игрок 1 победил'\n",
    "            else:\n",
    "                a = 'Игрок 2 победил'\n",
    "        print(a)\n",
    "\n",
    "play()"
   ]
  },
  {
   "cell_type": "code",
   "execution_count": null,
   "id": "fa82bdfd",
   "metadata": {},
   "outputs": [],
   "source": []
  }
 ],
 "metadata": {
  "kernelspec": {
   "display_name": "Python 3 (ipykernel)",
   "language": "python",
   "name": "python3"
  },
  "language_info": {
   "codemirror_mode": {
    "name": "ipython",
    "version": 3
   },
   "file_extension": ".py",
   "mimetype": "text/x-python",
   "name": "python",
   "nbconvert_exporter": "python",
   "pygments_lexer": "ipython3",
   "version": "3.11.4"
  }
 },
 "nbformat": 4,
 "nbformat_minor": 5
}
