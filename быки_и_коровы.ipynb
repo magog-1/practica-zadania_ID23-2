{
 "cells": [
  {
   "cell_type": "code",
   "execution_count": null,
   "id": "1bd79974",
   "metadata": {},
   "outputs": [
    {
     "name": "stdout",
     "output_type": "stream",
     "text": [
      "Твое число: 44444\n",
      "4444\n",
      "Содержит 1 быка и 3 коровы\n"
     ]
    }
   ],
   "source": [
    "import random\n",
    " \n",
    "digits = random.sample('0123456789', 4)\n",
    "#print(int(''.join(digits)))\n",
    "n = int(input('Твое число: '))\n",
    "while 1000 < n > 9999:\n",
    "    n = int(input())\n",
    "cnt = 0\n",
    "b = 0\n",
    " \n",
    "while b != 4:        # Проверка до 4 совпадений \n",
    "    \n",
    "    b, c = 0, 0\n",
    "    cnt += 1\n",
    "    \n",
    "    for i in range(4):\n",
    "        if digits[i] == str(n)[i]:\n",
    "            b += 1\n",
    "        elif str(n)[i] in digits:\n",
    "            c += 1 \n",
    "            \n",
    "    print(f'Содержит {b} быка и {c} коровы')\n",
    "    \n",
    "    if b == 4:\n",
    "        print(f'Победа за {cnt} ходов')\n",
    "        break\n",
    "    else:\n",
    "        n = int(input('Твое новое число: '))\n",
    "        while 1000 < n > 9999:\n",
    "            n = int(input())\n"
   ]
  },
  {
   "cell_type": "code",
   "execution_count": null,
   "id": "8e8cc3c1",
   "metadata": {},
   "outputs": [],
   "source": []
  },
  {
   "cell_type": "code",
   "execution_count": null,
   "id": "54664ecc",
   "metadata": {},
   "outputs": [],
   "source": []
  }
 ],
 "metadata": {
  "kernelspec": {
   "display_name": "Python 3 (ipykernel)",
   "language": "python",
   "name": "python3"
  },
  "language_info": {
   "codemirror_mode": {
    "name": "ipython",
    "version": 3
   },
   "file_extension": ".py",
   "mimetype": "text/x-python",
   "name": "python",
   "nbconvert_exporter": "python",
   "pygments_lexer": "ipython3",
   "version": "3.11.4"
  }
 },
 "nbformat": 4,
 "nbformat_minor": 5
}
